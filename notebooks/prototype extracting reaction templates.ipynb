{
 "cells": [
  {
   "cell_type": "code",
   "execution_count": null,
   "id": "3e2b3ff8-f45f-45f6-8e29-1fa111a86759",
   "metadata": {},
   "outputs": [],
   "source": [
    "from rdkit import Chem"
   ]
  },
  {
   "cell_type": "code",
   "execution_count": null,
   "id": "f3918e18-ffe6-460d-bd11-22bc80c2adf1",
   "metadata": {},
   "outputs": [],
   "source": [
    "from rdkit import Chem\n",
    "\n",
    "def get_env_around_multiple_reactive_sites(atom_mapped_substrate_smarts: str, \n",
    "                                           radius: int, \n",
    "                                           reactive_atom_indices: list) -> str:\n",
    "    \"\"\"\n",
    "    Extract the chemical environment around multiple reactive atoms at a specified bond radius.\n",
    "    \"\"\"\n",
    "    substrate_mol = Chem.MolFromSmarts(atom_mapped_substrate_smarts)\n",
    "    if substrate_mol is None:\n",
    "        raise ValueError(\"Invalid SMARTS string provided.\")\n",
    "    \n",
    "    # Initialize a set to collect all atom indices in the environment\n",
    "    atom_indices = set()\n",
    "\n",
    "    # Loop through each reactive atom and find its environment\n",
    "    for atom_idx in reactive_atom_indices:\n",
    "        reaction_environment = Chem.FindAtomEnvironmentOfRadiusN(\n",
    "            mol=substrate_mol, radius=radius, rootedAtAtom=atom_idx\n",
    "        )\n",
    "        \n",
    "        # Collect atom indices from the bonds in this environment\n",
    "        for bond_idx in reaction_environment:\n",
    "            bond = substrate_mol.GetBondWithIdx(bond_idx)\n",
    "            atom_indices.add(bond.GetBeginAtomIdx())\n",
    "            atom_indices.add(bond.GetEndAtomIdx())\n",
    "\n",
    "    # Generate the SMARTS string for the combined environment\n",
    "    env_smarts = Chem.MolFragmentToSmarts(\n",
    "        substrate_mol, \n",
    "        atomsToUse=list(atom_indices)\n",
    "    )\n",
    "    \n",
    "    return env_smarts"
   ]
  },
  {
   "cell_type": "code",
   "execution_count": null,
   "id": "1fde7756-471e-45eb-bf6f-0d6e0e5ed515",
   "metadata": {},
   "outputs": [],
   "source": [
    "atom_mapped_substrate_smarts = '[N:1]#[C:2][C@H:3]([OH:4])[c:5]1[cH:6][cH:7][cH:8][cH:9][cH:10]1'\n",
    "reactive_atom_indices = [2, 3, 4]  # Atoms undergoing the bond transformation\n",
    "radius = 1\n",
    "\n",
    "env_smarts = get_env_around_multiple_reactive_sites(atom_mapped_substrate_smarts, radius, reactive_atom_indices)\n",
    "print(env_smarts)\n"
   ]
  },
  {
   "cell_type": "code",
   "execution_count": null,
   "id": "e6792db5-70d1-4305-b999-a31f0ecb2cb1",
   "metadata": {},
   "outputs": [],
   "source": [
    "Chem.MolFromSmarts('[N:1]#[C:2][C@H:3]([OH:4])[c:5]1[cH:6][cH:7][cH:8][cH:9][cH:10]1')"
   ]
  },
  {
   "cell_type": "code",
   "execution_count": null,
   "id": "b4318e68-f3b0-4168-8989-57821c07f99e",
   "metadata": {},
   "outputs": [],
   "source": [
    "Chem.MolFromSmarts('[N:1]#[C:2][C@&H1:3]([O&H1:4])[c:5]')"
   ]
  },
  {
   "cell_type": "code",
   "execution_count": null,
   "id": "a6651069-4d28-4996-86ea-6ad150b64f15",
   "metadata": {},
   "outputs": [],
   "source": [
    "Chem.MolFromSmarts('[N:1]#[C:2][C@&H1:3]([O&H1:4])[c:5]([c&H1:6])[c&H1:10]')"
   ]
  },
  {
   "cell_type": "code",
   "execution_count": null,
   "id": "d6381654-4629-4162-80bd-e021419c585b",
   "metadata": {},
   "outputs": [],
   "source": [
    "Chem.MolFromSmarts('[N:1]#[C:2][C@&H1:3]([O&H1:4])[c:5]([c&H1:6][c&H1:7])[c&H1:10][c&H1:9]')"
   ]
  },
  {
   "cell_type": "code",
   "execution_count": null,
   "id": "4fc21fed-1a64-4f8f-8c88-526cac7a96a6",
   "metadata": {},
   "outputs": [],
   "source": [
    "Chem.MolFromSmarts('[N:1]#[C:2][C@&H1:3]([O&H1:4])[c:5]1[c&H1:6][c&H1:7][c&H1:8][c&H1:9][c&H1:10]1')"
   ]
  },
  {
   "cell_type": "code",
   "execution_count": null,
   "id": "ac1492b8-bd38-43e2-8e61-047f437549a8",
   "metadata": {},
   "outputs": [],
   "source": []
  },
  {
   "cell_type": "code",
   "execution_count": null,
   "id": "2477aaa6-aabe-4438-87a8-e0216b2f0167",
   "metadata": {},
   "outputs": [],
   "source": []
  },
  {
   "cell_type": "code",
   "execution_count": null,
   "id": "8756b6ec-0053-4225-adac-41d332721064",
   "metadata": {},
   "outputs": [],
   "source": [
    "NC(=O)c1ccc[n+]([C@@H]2O[C@H](COP(=O)(O)OP(=O)(O)OC[C@H]3O[C@@H](n4cnc5c(N)ncnc54)[C@H](O)[C@@H]3O)[C@@H](O)[C@H]2O)c1.O=C1CCNC(=O)N1>>NC(=O)C1=CN([C@@H]2O[C@H](COP(=O)(O)OP(=O)(O)OC[C@H]3O[C@@H](n4cnc5c(N)ncnc54)[C@H](O)[C@@H]3O)[C@@H](O)[C@H]2O)C=CC1.O=c1cc[nH]c(=O)[nH]1.[H+]\n"
   ]
  },
  {
   "cell_type": "code",
   "execution_count": null,
   "id": "d07d9e33-c6e6-4790-a573-b892e418bdf8",
   "metadata": {},
   "outputs": [],
   "source": [
    "Chem.MolFromSmarts('O=C1CCNC(=O)N1')"
   ]
  },
  {
   "cell_type": "code",
   "execution_count": null,
   "id": "02a23209-22a2-4cc9-99b5-f8e5196ee685",
   "metadata": {},
   "outputs": [],
   "source": [
    "Chem.MolFromSmarts('O=c1cc[nH]c(=O)[nH]1')"
   ]
  },
  {
   "cell_type": "code",
   "execution_count": null,
   "id": "44cbccfa-996d-43c4-978a-918026a90d9a",
   "metadata": {},
   "outputs": [],
   "source": [
    "from rdkit import Chem\n",
    "from rdkit.Chem.Draw import IPythonConsole\n",
    "from rdkit.Chem import rdDepictor\n",
    "from rdkit.Chem.Draw import rdMolDraw2D\n",
    "from IPython.display import SVG\n",
    "from copy import deepcopy\n",
    "\n",
    "\n",
    "def increase_resolution(mol, substructure, size=(400, 200), kekulize=True):\n",
    "    mol = deepcopy(mol)\n",
    "    substructure = deepcopy(substructure)\n",
    "    rdDepictor.Compute2DCoords(mol)\n",
    "    if kekulize:\n",
    "        Chem.Kekulize(mol) # Localize the benzene ring bonds\n",
    "        \n",
    "    drawer = rdMolDraw2D.MolDraw2DSVG(size[0], size[1])\n",
    "    \n",
    "    # highlightAtoms expects only one tuple, not tuple of tuples. So it needs to be merged into a single tuple\n",
    "    matches = sum(mol.GetSubstructMatches(substructure), ())\n",
    "    drawer.DrawMolecule(mol, highlightAtoms=matches)\n",
    "    \n",
    "    drawer.FinishDrawing()\n",
    "    svg = drawer.GetDrawingText()\n",
    "    return svg.replace('svg:','')\n",
    "\n",
    "\n",
    "mol = Chem.MolFromSmiles('c1cc(C(=O)O)c(OC(=O)C)cc1')\n",
    "substructure = Chem.MolFromSmarts('C(=O)O')\n",
    "SVG(increase_resolution(mol, substructure, kekulize=True))"
   ]
  },
  {
   "cell_type": "code",
   "execution_count": null,
   "id": "376d8c51-7fcc-4035-a67f-2db536d48d24",
   "metadata": {},
   "outputs": [],
   "source": [
    "from rdkit import Chem\n",
    "\n",
    "def get_env_around_multiple_reactive_sites(atom_mapped_substrate_smarts: str, \n",
    "                                           radius: int, \n",
    "                                           reactive_atom_indices: list) -> str:\n",
    "    \"\"\"\n",
    "    Extract the chemical environment around multiple reactive atoms at a specified bond radius.\n",
    "    \"\"\"\n",
    "    substrate_mol = Chem.MolFromSmarts(atom_mapped_substrate_smarts)\n",
    "    if substrate_mol is None:\n",
    "        raise ValueError(\"Invalid SMARTS string provided.\")\n",
    "    \n",
    "    # Initialize a set to collect all atom indices in the environment\n",
    "    atom_indices = set()\n",
    "\n",
    "    # Loop through each reactive atom and find its environment\n",
    "    for atom_idx in reactive_atom_indices:\n",
    "        reaction_environment = Chem.FindAtomEnvironmentOfRadiusN(\n",
    "            mol=substrate_mol, radius=radius, rootedAtAtom=atom_idx\n",
    "        )\n",
    "        reaction_environment = Chem.PathToSubmol(substrate_mol,\n",
    "                                                 reaction_environment)\n",
    "        \n",
    "        # Collect atom indices from the bonds in this environment\n",
    "        for bond_idx in reaction_environment:\n",
    "            bond = substrate_mol.GetBondWithIdx(bond_idx)\n",
    "            atom_indices.add(bond.GetBeginAtomIdx())\n",
    "            atom_indices.add(bond.GetEndAtomIdx())\n",
    "\n",
    "    # Generate the SMARTS string for the combined environment\n",
    "    env_smarts = Chem.MolFragmentToSmarts(\n",
    "        substrate_mol, \n",
    "        atomsToUse=list(atom_indices)\n",
    "    )\n",
    "    \n",
    "    return env_smarts"
   ]
  },
  {
   "cell_type": "code",
   "execution_count": null,
   "id": "40ffd552-b11b-4cd6-b8e2-c4a4b836de57",
   "metadata": {},
   "outputs": [],
   "source": [
    "atom_mapped_substrate_smarts = '[N:1]#[C:2][C@H:3]([OH:4])[c:5]1[cH:6][cH:7][cH:8][cH:9][cH:10]1'\n",
    "reactive_atom_indices = [1, 2]  # Atoms undergoing the bond transformation\n",
    "radius = 4\n",
    "\n",
    "env_smarts = get_env_around_multiple_reactive_sites(atom_mapped_substrate_smarts, radius, reactive_atom_indices)\n",
    "print(env_smarts)\n"
   ]
  },
  {
   "cell_type": "code",
   "execution_count": null,
   "id": "b8b6e02c-c5dd-47cf-bbba-dcad37ebfa92",
   "metadata": {},
   "outputs": [],
   "source": [
    "env = Chem.FindAtomEnvironmentOfRadiusN(mol = Chem.MolFromSmarts('[CH3:1][CH2:2][OH:3]'), \n",
    "                                  radius = 2, \n",
    "                                  rootedAtAtom = 2)"
   ]
  },
  {
   "cell_type": "code",
   "execution_count": null,
   "id": "f63026ca-c86d-432a-b243-fc2707e89e5c",
   "metadata": {},
   "outputs": [],
   "source": [
    "Chem.PathToSubmol(Chem.MolFromSmarts('[CH3:1][CH2:2][OH:3]'),\n",
    "                  env)"
   ]
  },
  {
   "cell_type": "code",
   "execution_count": null,
   "id": "16257eee-4ef9-4572-8311-4495fa75037a",
   "metadata": {},
   "outputs": [],
   "source": [
    "substrate_mol = Chem.MolFromSmarts('[N:1]#[C:2][C@H:3]([OH:4])[c:5]1[cH:6][cH:7][cH:8][cH:9][cH:10]1')\n",
    "reaction_environment = Chem.FindAtomEnvironmentOfRadiusN(substrate_mol,\n",
    "                                                        radius = 1,\n",
    "                                                        rootedAtAtom = 3)"
   ]
  },
  {
   "cell_type": "code",
   "execution_count": null,
   "id": "f4e18ad5-1c70-425a-8a2a-411fcf3915d4",
   "metadata": {},
   "outputs": [],
   "source": [
    "for bond_idx in reaction_environment:\n",
    "    bond = substrate_mol.GetBondWithIdx(bond_idx)\n",
    "    print(bond.GetBeginAtomIdx())"
   ]
  },
  {
   "cell_type": "code",
   "execution_count": null,
   "id": "bd2d751f-3c9e-430e-a88b-56141c0334e0",
   "metadata": {},
   "outputs": [],
   "source": []
  },
  {
   "cell_type": "code",
   "execution_count": null,
   "id": "be60073c-ca79-4340-b1e9-b09d14200351",
   "metadata": {},
   "outputs": [],
   "source": []
  },
  {
   "cell_type": "code",
   "execution_count": null,
   "id": "280e096e-9095-4193-a56b-e5dc09f675ee",
   "metadata": {},
   "outputs": [],
   "source": []
  },
  {
   "cell_type": "code",
   "execution_count": 50,
   "id": "1b70a475-6fc7-42c7-a439-838c6c4f5d24",
   "metadata": {},
   "outputs": [],
   "source": [
    "from rdkit import Chem"
   ]
  },
  {
   "cell_type": "code",
   "execution_count": 51,
   "id": "9cfe740a-dba2-496d-97ef-2ccd4b07b818",
   "metadata": {},
   "outputs": [],
   "source": [
    "mol = Chem.MolFromSmarts('[N:1]#[C:2][C@H:3]([OH:4])[c:5]1[cH:6][cH:7][cH:8][cH:9][cH:10]1')"
   ]
  },
  {
   "cell_type": "code",
   "execution_count": null,
   "id": "0671c28a-c134-4b4d-9228-69fd383bb10f",
   "metadata": {},
   "outputs": [],
   "source": [
    "mol"
   ]
  },
  {
   "cell_type": "code",
   "execution_count": null,
   "id": "5df557de-6675-4835-8e5d-ac99f1a664db",
   "metadata": {},
   "outputs": [],
   "source": [
    "env = Chem.FindAtomEnvironmentOfRadiusN(mol, radius = 1, rootedAtAtom = 5)"
   ]
  },
  {
   "cell_type": "code",
   "execution_count": null,
   "id": "b40394ca-f637-4f74-827f-ab5576dbe496",
   "metadata": {},
   "outputs": [],
   "source": [
    "submol = Chem.PathToSubmol(mol, env)"
   ]
  },
  {
   "cell_type": "code",
   "execution_count": null,
   "id": "125164e1-d02f-4272-a781-467f96e95c1e",
   "metadata": {},
   "outputs": [],
   "source": [
    "submol"
   ]
  },
  {
   "cell_type": "code",
   "execution_count": null,
   "id": "3769fd1c-6ec8-45d5-b1d3-ddd3651bc168",
   "metadata": {},
   "outputs": [],
   "source": [
    "from rdkit import Chem\n",
    "\n",
    "# Create a molecule from the SMARTS string\n",
    "smarts = '[N:1]#[C:2][C@H:3]([OH:4])[c:5]1[cH:6][cH:7][cH:8][cH:9][cH:10]1'\n",
    "mol = Chem.MolFromSmarts(smarts)\n",
    "\n",
    "# Verify atom map numbers\n",
    "print(\"Atom map numbers:\")\n",
    "for atom in mol.GetAtoms():\n",
    "    print(f\"Atom index: {atom.GetIdx()}, Atom map number: {atom.GetAtomMapNum()}\")\n",
    "\n",
    "# Find the atom index for atom map number 5\n",
    "rooted_atom_map = 5\n",
    "rooted_atom_index = None\n",
    "for atom in mol.GetAtoms():\n",
    "    if atom.GetAtomMapNum() == rooted_atom_map:\n",
    "        rooted_atom_index = atom.GetIdx()\n",
    "        break\n",
    "\n",
    "if rooted_atom_index is None:\n",
    "    raise ValueError(f\"Atom with map number {rooted_atom_map} not found!\")\n",
    "\n",
    "# Use FindAtomEnvironmentOfRadiusN with the rooted atom index\n",
    "radius = 1\n",
    "env = Chem.FindAtomEnvironmentOfRadiusN(mol, radius, rootedAtAtom=rooted_atom_index)\n",
    "\n",
    "# Create a sub-molecule from the environment\n",
    "submol = Chem.PathToSubmol(mol, env)\n",
    "\n",
    "# Display the sub-molecule\n",
    "print(\"Sub-molecule:\")\n",
    "for atom in submol.GetAtoms():\n",
    "    print(f\"Atom index: {atom.GetIdx()}, Atom map number: {atom.GetAtomMapNum()}\")\n",
    "\n",
    "# Optionally visualize the sub-molecule\n",
    "from rdkit.Chem import Draw\n",
    "Draw.MolToImage(submol)\n"
   ]
  },
  {
   "cell_type": "markdown",
   "id": "5781b28b-0a47-4b90-a12b-a3f4733f40cd",
   "metadata": {},
   "source": [
    "#### for multiple reactive sites:"
   ]
  },
  {
   "cell_type": "code",
   "execution_count": null,
   "id": "b355f8a1-9e94-4844-811a-0d8a7a7e8b71",
   "metadata": {},
   "outputs": [],
   "source": [
    "from rdkit import Chem\n",
    "from rdkit.Chem import rdchem\n",
    "from rdkit.Chem import Draw\n",
    "\n",
    "def find_combined_submol(smarts, reactive_sites, radius=1):\n",
    "    \"\"\"\n",
    "    Find and combine sub-molecules for multiple reactive sites.\n",
    "\n",
    "    Parameters:\n",
    "    - smarts: str, the SMARTS string for the molecule\n",
    "    - reactive_sites: list of int, atom map numbers for the reactive sites\n",
    "    - radius: int, radius around each atom in the reactive sites to include in the sub-molecule\n",
    "\n",
    "    Returns:\n",
    "    - combined_submol: RDKit Mol object, the combined sub-molecule\n",
    "    \"\"\"\n",
    "    # Create a molecule from the SMARTS string\n",
    "    mol = Chem.MolFromSmarts(smarts)\n",
    "    if mol is None:\n",
    "        raise ValueError(\"Invalid SMARTS string!\")\n",
    "\n",
    "    # Store the union of all atom environments\n",
    "    combined_env = set()\n",
    "\n",
    "    # Process each reactive site\n",
    "    for map_num in reactive_sites:\n",
    "        # Find the atom index corresponding to the atom map number\n",
    "        rooted_atom_index = None\n",
    "        for atom in mol.GetAtoms():\n",
    "            if atom.GetAtomMapNum() == map_num:\n",
    "                rooted_atom_index = atom.GetIdx()\n",
    "                break\n",
    "        if rooted_atom_index is None:\n",
    "            raise ValueError(f\"Atom with map number {map_num} not found!\")\n",
    "\n",
    "        # Find the atom environment for the current atom\n",
    "        env = Chem.FindAtomEnvironmentOfRadiusN(mol, radius, rootedAtAtom=rooted_atom_index)\n",
    "        combined_env.update(env)  # Combine the environments\n",
    "\n",
    "    # Convert the combined environment to a sub-molecule\n",
    "    combined_submol = Chem.PathToSubmol(mol, list(combined_env))\n",
    "\n",
    "    # Propagate atom map numbers to the sub-molecule\n",
    "    for atom in combined_submol.GetAtoms():\n",
    "        original_atom = mol.GetAtomWithIdx(atom.GetIdx())\n",
    "        atom.SetAtomMapNum(original_atom.GetAtomMapNum())\n",
    "\n",
    "    return combined_submol\n",
    "\n",
    "# Example usage\n",
    "smarts = '[N:1]#[C:2][C@H:3]([OH:4])[c:5]1[cH:6][cH:7][cH:8][cH:9][cH:10]1'\n",
    "reactive_sites = [2, 3]  # Atom map numbers for the reactive sites\n",
    "radius = 3\n",
    "\n",
    "# Find and combine the sub-molecule\n",
    "combined_submol = find_combined_submol(smarts, reactive_sites, radius)\n",
    "\n",
    "# Display the combined sub-molecule\n",
    "print(\"Combined sub-molecule:\")\n",
    "for atom in combined_submol.GetAtoms():\n",
    "    print(f\"Atom index: {atom.GetIdx()}, Atom map number: {atom.GetAtomMapNum()}\")\n",
    "\n",
    "# Visualize the combined sub-molecule\n",
    "Draw.MolToImage(combined_submol)\n"
   ]
  },
  {
   "cell_type": "code",
   "execution_count": null,
   "id": "3c68c06f-5055-4c4b-b25f-a6318ddf06ab",
   "metadata": {},
   "outputs": [],
   "source": [
    "Chem.MolToSmarts(combined_submol)"
   ]
  },
  {
   "cell_type": "code",
   "execution_count": null,
   "id": "937b4884-4d1c-4382-8039-aabe517ecb06",
   "metadata": {},
   "outputs": [],
   "source": []
  },
  {
   "cell_type": "code",
   "execution_count": 86,
   "id": "86f9aec3-1773-4c3d-aeae-d6761afe2e1e",
   "metadata": {},
   "outputs": [],
   "source": [
    "from rdkit import Chem\n",
    "from rdkit.Chem import Draw, rdmolops\n",
    "from rxntools import draw"
   ]
  },
  {
   "cell_type": "code",
   "execution_count": null,
   "id": "893e3716-b7c2-4c67-8e82-7b4832ba5d57",
   "metadata": {},
   "outputs": [],
   "source": []
  },
  {
   "cell_type": "code",
   "execution_count": null,
   "id": "f8cd25e6-d514-4532-82c7-acc4d7786501",
   "metadata": {},
   "outputs": [],
   "source": []
  },
  {
   "cell_type": "code",
   "execution_count": 87,
   "id": "ed79d0a6-5ae5-439e-b4b7-feb73a6d1d49",
   "metadata": {},
   "outputs": [
    {
     "data": {
      "text/plain": [
       "rdkit.Chem.rdmolops.SanitizeFlags.SANITIZE_NONE"
      ]
     },
     "execution_count": 87,
     "metadata": {},
     "output_type": "execute_result"
    }
   ],
   "source": [
    "substrate_mol = Chem.MolFromSmarts('[N:51]#[C:52][C@&H1:53]([O&H1:54])[c:55]1[c&H1:56][c&H1:57][c&H1:58][c&H1:59][c&H1:60]1')\n"
   ]
  },
  {
   "cell_type": "code",
   "execution_count": 104,
   "id": "53cca4f5-0e89-42ef-ac28-1757fd43b4fe",
   "metadata": {},
   "outputs": [
    {
     "name": "stdout",
     "output_type": "stream",
     "text": [
      "Simplified SMILES:\n",
      "Substrate: [N:51]#[C:52][C:53]([O:54])[c:55]1[c:56][c:57][c:58][c:59][c:60]1\n",
      "Substructure: [N:51]#[C:52][C:53]([O:54])[c:55]1[c:56][c:57][c:58][c:59][c:60]1\n",
      "Substrate atoms:\n",
      "Atom 0: Element=N, AtomMapNum=0, ImplicitValence=0, ExplicitValence=3\n",
      "Atom 1: Element=C, AtomMapNum=0, ImplicitValence=0, ExplicitValence=3\n",
      "Atom 2: Element=C, AtomMapNum=0, ImplicitValence=0, ExplicitValence=0\n",
      "Atom 3: Element=O, AtomMapNum=0, ImplicitValence=0, ExplicitValence=0\n",
      "Atom 4: Element=C, AtomMapNum=0, ImplicitValence=0, ExplicitValence=0\n",
      "Atom 5: Element=C, AtomMapNum=0, ImplicitValence=0, ExplicitValence=0\n",
      "Atom 6: Element=C, AtomMapNum=0, ImplicitValence=0, ExplicitValence=0\n",
      "Atom 7: Element=C, AtomMapNum=0, ImplicitValence=0, ExplicitValence=0\n",
      "Atom 8: Element=C, AtomMapNum=0, ImplicitValence=0, ExplicitValence=0\n",
      "Atom 9: Element=C, AtomMapNum=0, ImplicitValence=0, ExplicitValence=0\n",
      "\n",
      "Substructure atoms:\n",
      "Atom 0: Element=N, AtomMapNum=0, ImplicitValence=0, ExplicitValence=3\n",
      "Atom 1: Element=C, AtomMapNum=0, ImplicitValence=0, ExplicitValence=3\n",
      "Atom 2: Element=C, AtomMapNum=0, ImplicitValence=0, ExplicitValence=0\n",
      "Atom 3: Element=O, AtomMapNum=0, ImplicitValence=0, ExplicitValence=0\n",
      "Atom 4: Element=C, AtomMapNum=0, ImplicitValence=0, ExplicitValence=0\n",
      "Atom 5: Element=C, AtomMapNum=0, ImplicitValence=0, ExplicitValence=0\n",
      "Atom 6: Element=C, AtomMapNum=0, ImplicitValence=0, ExplicitValence=0\n",
      "Atom 7: Element=C, AtomMapNum=0, ImplicitValence=0, ExplicitValence=0\n",
      "Atom 8: Element=C, AtomMapNum=0, ImplicitValence=0, ExplicitValence=0\n",
      "Atom 9: Element=C, AtomMapNum=0, ImplicitValence=0, ExplicitValence=0\n",
      "Matches (relaxed): ()\n"
     ]
    }
   ],
   "source": [
    "substrate_mol = Chem.MolFromSmarts('[N:51]#[C:52][C@&H1:53]([O&H1:54])[c:55]1[c&H1:56][c&H1:57][c&H1:58][c&H1:59][c&H1:60]1')\n",
    "substruct_mol = Chem.MolFromSmarts('[N:51]#[C:52][C@&H1:53]([O&H1:54])[c:55]1[c&H1:56][c&H1:57][c&H1:58][c&H1:59][c&H1:60]1')\n",
    "\n",
    "substrate_smiles = Chem.MolToSmiles(substrate_mol)\n",
    "substruct_smiles = Chem.MolToSmiles(substruct_mol)\n",
    "\n",
    "print(\"Simplified SMILES:\")\n",
    "print(\"Substrate:\", substrate_smiles)\n",
    "print(\"Substructure:\", substruct_smiles)\n",
    "\n",
    "def simplify_molecule(mol):\n",
    "    for atom in mol.GetAtoms():\n",
    "        atom.SetAtomMapNum(0)  # Remove atom maps\n",
    "    mol = Chem.RemoveHs(mol)  # Remove explicit hydrogens\n",
    "    return mol\n",
    "\n",
    "substrate_mol = simplify_molecule(substrate_mol)\n",
    "substruct_mol = simplify_molecule(substruct_mol)\n",
    "\n",
    "Chem.SanitizeMol(substrate_mol)\n",
    "Chem.SanitizeMol(substruct_mol)\n",
    "\n",
    "print(\"Substrate atoms:\")\n",
    "for atom in substrate_mol.GetAtoms():\n",
    "    print(f\"Atom {atom.GetIdx()}: Element={atom.GetSymbol()}, \"\n",
    "          f\"AtomMapNum={atom.GetAtomMapNum()}, \"\n",
    "          f\"ImplicitValence={atom.GetImplicitValence()}, \"\n",
    "          f\"ExplicitValence={atom.GetExplicitValence()}\")\n",
    "\n",
    "print(\"\\nSubstructure atoms:\")\n",
    "for atom in substruct_mol.GetAtoms():\n",
    "    print(f\"Atom {atom.GetIdx()}: Element={atom.GetSymbol()}, \"\n",
    "          f\"AtomMapNum={atom.GetAtomMapNum()}, \"\n",
    "          f\"ImplicitValence={atom.GetImplicitValence()}, \"\n",
    "          f\"ExplicitValence={atom.GetExplicitValence()}\")\n",
    "\n",
    "matches = substrate_mol.GetSubstructMatches(substruct_mol, useChirality=False, useQueryQueryMatches=True)\n",
    "print(\"Matches (relaxed):\", matches)\n",
    "\n"
   ]
  },
  {
   "cell_type": "code",
   "execution_count": null,
   "id": "9af791aa-6761-449d-9415-33471c92a4f0",
   "metadata": {},
   "outputs": [],
   "source": []
  },
  {
   "cell_type": "code",
   "execution_count": null,
   "id": "463499cd-c331-487e-90e9-91584c3e3fb9",
   "metadata": {},
   "outputs": [],
   "source": []
  },
  {
   "cell_type": "code",
   "execution_count": null,
   "id": "98357038-ee88-4f74-b280-4303954e9ceb",
   "metadata": {},
   "outputs": [],
   "source": []
  },
  {
   "cell_type": "code",
   "execution_count": null,
   "id": "fbd53a4b-33d0-497f-9b91-1d0f0d1a089f",
   "metadata": {},
   "outputs": [],
   "source": []
  },
  {
   "cell_type": "code",
   "execution_count": null,
   "id": "41369867-f195-4379-a365-9a2692959a7c",
   "metadata": {},
   "outputs": [],
   "source": []
  },
  {
   "cell_type": "code",
   "execution_count": 94,
   "id": "30dbd3e1-fb39-46c4-a1e7-f7b044327b69",
   "metadata": {},
   "outputs": [
    {
     "data": {
      "text/plain": [
       "()"
      ]
     },
     "execution_count": 94,
     "metadata": {},
     "output_type": "execute_result"
    }
   ],
   "source": [
    "substrate_mol.GetSubstructMatches(substruct_mol)"
   ]
  },
  {
   "cell_type": "code",
   "execution_count": null,
   "id": "df1691d2-0d3a-43cc-b5c0-e0006bbac4af",
   "metadata": {},
   "outputs": [],
   "source": []
  },
  {
   "cell_type": "code",
   "execution_count": 95,
   "id": "c1535fda-eb62-4cbb-b966-5f5a6cfb6729",
   "metadata": {},
   "outputs": [
    {
     "data": {
      "image/png": "[encoded data removed]",
      "text/plain": [
       "<rdkit.Chem.rdchem.Mol at 0x11099a490>"
      ]
     },
     "execution_count": 95,
     "metadata": {},
     "output_type": "execute_result"
    }
   ],
   "source": [
    "substrate_mol"
   ]
  },
  {
   "cell_type": "code",
   "execution_count": 81,
   "id": "a1b8c097-a97b-40ae-a8d2-d890029fdc33",
   "metadata": {},
   "outputs": [],
   "source": [
    "rootedAtAtom = 5\n",
    "radius = 1\n",
    "\n",
    "substrate_mol = Chem.MolFromSmarts('[N:51]#[C:52][C@&H1:53]([O&H1:54])[c:55]1[c&H1:56][c&H1:57][c&H1:58][c&H1:59][c&H1:60]1')\n",
    "\n",
    "for atom in substrate_mol.GetAtoms():\n",
    "    env = Chem.FindAtomEnvironmentOfRadiusN(mol, radius, rootedAtAtom = 9)\n",
    "\n",
    "# Create a sub-molecule from the environment\n",
    "submol = Chem.PathToSubmol(mol, list(env))\n",
    "template = Chem.MolToSmarts(submol)"
   ]
  },
  {
   "cell_type": "code",
   "execution_count": 85,
   "id": "a52e2b15-eda4-4883-8c46-66f078bf9c81",
   "metadata": {},
   "outputs": [
    {
     "data": {
      "text/plain": [
       "'[c&H1:8][c&H1:9][c:4]'"
      ]
     },
     "execution_count": 85,
     "metadata": {},
     "output_type": "execute_result"
    }
   ],
   "source": [
    "template"
   ]
  },
  {
   "cell_type": "code",
   "execution_count": 49,
   "id": "5701ff67-8ca5-4851-93a1-8c82d731b23b",
   "metadata": {},
   "outputs": [],
   "source": [
    "substruct_mol = Chem.MolFromSmarts(template)\n",
    "for atom in mol.GetAtoms():\n",
    "    atom_idx = atom.GetIdx()\n",
    "    atom.SetAtomMapNum(atom_idx) "
   ]
  },
  {
   "cell_type": "code",
   "execution_count": 50,
   "id": "10a8b242-7d9c-4192-8b3b-151cdc9dc782",
   "metadata": {},
   "outputs": [
    {
     "data": {
      "image/png": "[encoded data removed]",
      "text/plain": [
       "<rdkit.Chem.rdchem.Mol at 0x108b58b30>"
      ]
     },
     "execution_count": 50,
     "metadata": {},
     "output_type": "execute_result"
    }
   ],
   "source": [
    "substruct_mol"
   ]
  },
  {
   "cell_type": "code",
   "execution_count": 51,
   "id": "5b6d6f61-a858-4869-b388-8ebe140707fb",
   "metadata": {},
   "outputs": [
    {
     "data": {
      "image/png": "[encoded data removed]",
      "text/plain": [
       "<rdkit.Chem.rdchem.Mol at 0x108b58c10>"
      ]
     },
     "execution_count": 51,
     "metadata": {},
     "output_type": "execute_result"
    }
   ],
   "source": [
    "substrate_mol"
   ]
  },
  {
   "cell_type": "code",
   "execution_count": 59,
   "id": "b3a3946a-dc13-4528-8c43-91c2807f1f5b",
   "metadata": {},
   "outputs": [
    {
     "name": "stderr",
     "output_type": "stream",
     "text": [
      "[22:44:13] non-ring atom 1 marked aromatic\n"
     ]
    }
   ],
   "source": [
    "mol2 = Chem.MolFromSmiles(Chem.MolToSmiles(substruct_mol))"
   ]
  },
  {
   "cell_type": "code",
   "execution_count": 60,
   "id": "76936aa4-4bf5-4c33-b726-fb77630fc556",
   "metadata": {},
   "outputs": [],
   "source": [
    "mol1 = Chem.MolFromSmiles(Chem.MolToSmiles(substrate_mol))"
   ]
  },
  {
   "cell_type": "code",
   "execution_count": 61,
   "id": "f429932d-7082-4e25-9403-9b34be01dd50",
   "metadata": {},
   "outputs": [],
   "source": [
    "mol2"
   ]
  },
  {
   "cell_type": "code",
   "execution_count": 62,
   "id": "ba124f91-5a79-4713-b294-7a4d1d4e81e2",
   "metadata": {},
   "outputs": [
    {
     "data": {
      "image/png": "[encoded data removed]",
      "text/plain": [
       "<rdkit.Chem.rdchem.Mol at 0x108b59d20>"
      ]
     },
     "execution_count": 62,
     "metadata": {},
     "output_type": "execute_result"
    }
   ],
   "source": [
    "mol1"
   ]
  },
  {
   "cell_type": "code",
   "execution_count": 64,
   "id": "c89c1303-960f-44a2-9202-af32d68f3607",
   "metadata": {},
   "outputs": [
    {
     "ename": "ArgumentError",
     "evalue": "Python argument types in\n    Mol.GetSubstructMatches(Mol, NoneType)\ndid not match C++ signature:\n    GetSubstructMatches(RDKit::ROMol self, RDKit::MolBundle query, RDKit::SubstructMatchParameters params)\n    GetSubstructMatches(RDKit::ROMol self, RDKit::ROMol query, RDKit::SubstructMatchParameters params)\n    GetSubstructMatches(RDKit::ROMol self, RDKit::MolBundle query, bool uniquify=True, bool useChirality=False, bool useQueryQueryMatches=False, unsigned int maxMatches=1000)\n    GetSubstructMatches(RDKit::ROMol self, RDKit::ROMol query, bool uniquify=True, bool useChirality=False, bool useQueryQueryMatches=False, unsigned int maxMatches=1000)",
     "output_type": "error",
     "traceback": [
      "\u001b[0;31m---------------------------------------------------------------------------\u001b[0m",
      "\u001b[0;31mArgumentError\u001b[0m                             Traceback (most recent call last)",
      "Cell \u001b[0;32mIn[64], line 1\u001b[0m\n\u001b[0;32m----> 1\u001b[0m \u001b[43mmol1\u001b[49m\u001b[38;5;241;43m.\u001b[39;49m\u001b[43mGetSubstructMatches\u001b[49m\u001b[43m(\u001b[49m\u001b[43mmol2\u001b[49m\u001b[43m)\u001b[49m\n",
      "File \u001b[0;32m~/Library/Caches/pypoetry/virtualenvs/rxntools-wxNqzEGl-py3.12/lib/python3.12/site-packages/rdkit/Chem/Draw/IPythonConsole.py:219\u001b[0m, in \u001b[0;36m_GetSubstructMatches\u001b[0;34m(mol, query, *args, **kwargs)\u001b[0m\n\u001b[1;32m    218\u001b[0m \u001b[38;5;28;01mdef\u001b[39;00m \u001b[38;5;21m_GetSubstructMatches\u001b[39m(mol, query, \u001b[38;5;241m*\u001b[39margs, \u001b[38;5;241m*\u001b[39m\u001b[38;5;241m*\u001b[39mkwargs):\n\u001b[0;32m--> 219\u001b[0m   res \u001b[38;5;241m=\u001b[39m \u001b[43mmol\u001b[49m\u001b[38;5;241;43m.\u001b[39;49m\u001b[43m__GetSubstructMatches\u001b[49m\u001b[43m(\u001b[49m\u001b[43mquery\u001b[49m\u001b[43m,\u001b[49m\u001b[43m \u001b[49m\u001b[38;5;241;43m*\u001b[39;49m\u001b[43margs\u001b[49m\u001b[43m,\u001b[49m\u001b[43m \u001b[49m\u001b[38;5;241;43m*\u001b[39;49m\u001b[38;5;241;43m*\u001b[39;49m\u001b[43mkwargs\u001b[49m\u001b[43m)\u001b[49m\n\u001b[1;32m    220\u001b[0m   mol\u001b[38;5;241m.\u001b[39m__sssAtoms \u001b[38;5;241m=\u001b[39m []\n\u001b[1;32m    221\u001b[0m   \u001b[38;5;28;01mif\u001b[39;00m highlightSubstructs:\n",
      "\u001b[0;31mArgumentError\u001b[0m: Python argument types in\n    Mol.GetSubstructMatches(Mol, NoneType)\ndid not match C++ signature:\n    GetSubstructMatches(RDKit::ROMol self, RDKit::MolBundle query, RDKit::SubstructMatchParameters params)\n    GetSubstructMatches(RDKit::ROMol self, RDKit::ROMol query, RDKit::SubstructMatchParameters params)\n    GetSubstructMatches(RDKit::ROMol self, RDKit::MolBundle query, bool uniquify=True, bool useChirality=False, bool useQueryQueryMatches=False, unsigned int maxMatches=1000)\n    GetSubstructMatches(RDKit::ROMol self, RDKit::ROMol query, bool uniquify=True, bool useChirality=False, bool useQueryQueryMatches=False, unsigned int maxMatches=1000)"
     ]
    }
   ],
   "source": [
    "mol1.GetSubstructMatches(mol2)"
   ]
  },
  {
   "cell_type": "code",
   "execution_count": null,
   "id": "93a28f24-02dd-4395-b049-9b54bdaa01e4",
   "metadata": {},
   "outputs": [],
   "source": []
  },
  {
   "cell_type": "code",
   "execution_count": 52,
   "id": "af8a9242-3457-476c-8dc9-af1d553ac496",
   "metadata": {},
   "outputs": [
    {
     "data": {
      "text/plain": [
       "()"
      ]
     },
     "execution_count": 52,
     "metadata": {},
     "output_type": "execute_result"
    }
   ],
   "source": [
    "substrate_mol.GetSubstructMatches(substruct_mol)"
   ]
  },
  {
   "cell_type": "code",
   "execution_count": 53,
   "id": "ff19e14c-2fb1-4bf6-a974-d94c1857d0cb",
   "metadata": {},
   "outputs": [
    {
     "data": {
      "image/png": "[encoded data removed]",
      "text/plain": [
       "<rdkit.Chem.rdchem.Mol at 0x108b59a10>"
      ]
     },
     "execution_count": 53,
     "metadata": {},
     "output_type": "execute_result"
    }
   ],
   "source": [
    "Chem.MolFromSmarts('[N:1]#[C:2][C@&H1:3]([O&H1:4])[c:5]1[c&H1:6][c&H1:7][c&H1:8][c&H1:9][c&H1:10]1')"
   ]
  },
  {
   "cell_type": "code",
   "execution_count": 54,
   "id": "72ab01f7-850d-43fa-9c08-ed465f664d56",
   "metadata": {},
   "outputs": [],
   "source": [
    "from rdkit.Chem import rdDepictor"
   ]
  },
  {
   "cell_type": "code",
   "execution_count": 55,
   "id": "b2429f78-b8a9-4df5-9701-f9f466379a72",
   "metadata": {},
   "outputs": [
    {
     "name": "stderr",
     "output_type": "stream",
     "text": [
      "[22:42:38] SMILES Parse Error: syntax error while parsing: [N:1]#[C:2][C@&H1:3]([O&H1:4])[c:5]1[c&H1:6][c&H1:7][c&H1:8][c&H1:9][c&H1:10]1\n",
      "[22:42:38] SMILES Parse Error: Failed parsing SMILES '[N:1]#[C:2][C@&H1:3]([O&H1:4])[c:5]1[c&H1:6][c&H1:7][c&H1:8][c&H1:9][c&H1:10]1' for input: '[N:1]#[C:2][C@&H1:3]([O&H1:4])[c:5]1[c&H1:6][c&H1:7][c&H1:8][c&H1:9][c&H1:10]1'\n"
     ]
    },
    {
     "ename": "AttributeError",
     "evalue": "'NoneType' object has no attribute 'GetSubstructMatches'",
     "output_type": "error",
     "traceback": [
      "\u001b[0;31m---------------------------------------------------------------------------\u001b[0m",
      "\u001b[0;31mAttributeError\u001b[0m                            Traceback (most recent call last)",
      "Cell \u001b[0;32mIn[55], line 1\u001b[0m\n\u001b[0;32m----> 1\u001b[0m \u001b[43mdraw\u001b[49m\u001b[38;5;241;43m.\u001b[39;49m\u001b[43mhighlight_substructures_in_notebook\u001b[49m\u001b[43m(\u001b[49m\u001b[38;5;124;43m'\u001b[39;49m\u001b[38;5;124;43m[N:1]#[C:2][C@&H1:3]([O&H1:4])[c:5]1[c&H1:6][c&H1:7][c&H1:8][c&H1:9][c&H1:10]1\u001b[39;49m\u001b[38;5;124;43m'\u001b[39;49m\u001b[43m,\u001b[49m\n\u001b[1;32m      2\u001b[0m \u001b[43m                                   \u001b[49m\u001b[38;5;124;43m'\u001b[39;49m\u001b[38;5;124;43m[c:5]([C@&H1:3])([c&H1:6])[c&H1:10]\u001b[39;49m\u001b[38;5;124;43m'\u001b[39;49m\u001b[43m)\u001b[49m\n",
      "File \u001b[0;32m~/PycharmProjects/RxnTools/rxntools/draw.py:61\u001b[0m, in \u001b[0;36mhighlight_substructures_in_notebook\u001b[0;34m(substrate_smarts, substructure_smarts, size, consider_stereo)\u001b[0m\n\u001b[1;32m     58\u001b[0m     matches \u001b[38;5;241m=\u001b[39m \u001b[38;5;28msum\u001b[39m(substrate_mol\u001b[38;5;241m.\u001b[39mGetSubstructMatches(substructure_mol,\n\u001b[1;32m     59\u001b[0m                                                     useChirality \u001b[38;5;241m=\u001b[39m \u001b[38;5;28;01mTrue\u001b[39;00m), ())\n\u001b[1;32m     60\u001b[0m \u001b[38;5;28;01melse\u001b[39;00m:\n\u001b[0;32m---> 61\u001b[0m     matches \u001b[38;5;241m=\u001b[39m \u001b[38;5;28msum\u001b[39m(\u001b[43msubstrate_mol\u001b[49m\u001b[38;5;241;43m.\u001b[39;49m\u001b[43mGetSubstructMatches\u001b[49m(substructure_mol,\n\u001b[1;32m     62\u001b[0m                                                     useChirality \u001b[38;5;241m=\u001b[39m \u001b[38;5;28;01mFalse\u001b[39;00m), ())\n\u001b[1;32m     64\u001b[0m drawer\u001b[38;5;241m.\u001b[39mDrawMolecule(substrate_mol, highlightAtoms \u001b[38;5;241m=\u001b[39m matches)\n\u001b[1;32m     66\u001b[0m drawer\u001b[38;5;241m.\u001b[39mFinishDrawing()\n",
      "\u001b[0;31mAttributeError\u001b[0m: 'NoneType' object has no attribute 'GetSubstructMatches'"
     ]
    }
   ],
   "source": [
    "draw.highlight_substructures_in_notebook('[N:1]#[C:2][C@&H1:3]([O&H1:4])[c:5]1[c&H1:6][c&H1:7][c&H1:8][c&H1:9][c&H1:10]1',\n",
    "                                   '[c:5]([C@&H1:3])([c&H1:6])[c&H1:10]')"
   ]
  },
  {
   "cell_type": "code",
   "execution_count": 56,
   "id": "1d2abcd4-f168-4291-954f-4da46f5b00e2",
   "metadata": {},
   "outputs": [
    {
     "name": "stderr",
     "output_type": "stream",
     "text": [
      "[22:42:38] \n",
      "\n",
      "****\n",
      "Pre-condition Violation\n",
      "getNumImplicitHs() called without preceding call to calcImplicitValence()\n",
      "Violation occurred on line 289 in file /Users/runner/work/rdkit-pypi/rdkit-pypi/build/temp.macosx-10.9-x86_64-cpython-312/rdkit/Code/GraphMol/Atom.cpp\n",
      "Failed Expression: d_implicitValence > -1\n",
      "****\n",
      "\n"
     ]
    },
    {
     "ename": "RuntimeError",
     "evalue": "Pre-condition Violation\n\tgetNumImplicitHs() called without preceding call to calcImplicitValence()\n\tViolation occurred on line 289 in file Code/GraphMol/Atom.cpp\n\tFailed Expression: d_implicitValence > -1\n\tRDKIT: 2024.03.6\n\tBOOST: 1_85\n",
     "output_type": "error",
     "traceback": [
      "\u001b[0;31m---------------------------------------------------------------------------\u001b[0m",
      "\u001b[0;31mRuntimeError\u001b[0m                              Traceback (most recent call last)",
      "Cell \u001b[0;32mIn[56], line 1\u001b[0m\n\u001b[0;32m----> 1\u001b[0m \u001b[43mChem\u001b[49m\u001b[38;5;241;43m.\u001b[39;49m\u001b[43mMolFromSmarts\u001b[49m\u001b[43m(\u001b[49m\u001b[38;5;124;43m'\u001b[39;49m\u001b[38;5;124;43m[N:1]#[C:2][C@&H1:3]([O&H1:4])[c:5]1[c&H1:6][c&H1:7][c&H1:8][c&H1:9][c&H1:10]1\u001b[39;49m\u001b[38;5;124;43m'\u001b[39;49m\u001b[43m)\u001b[49m\u001b[38;5;241;43m.\u001b[39;49m\u001b[43mGetSubstructMatches\u001b[49m\u001b[43m(\u001b[49m\u001b[43mChem\u001b[49m\u001b[38;5;241;43m.\u001b[39;49m\u001b[43mMolFromSmarts\u001b[49m\u001b[43m(\u001b[49m\u001b[38;5;124;43m'\u001b[39;49m\u001b[38;5;124;43m[c:5]([C@&H1:3])([c&H1:6])[c&H1:10]\u001b[39;49m\u001b[38;5;124;43m'\u001b[39;49m\u001b[43m)\u001b[49m\u001b[43m)\u001b[49m\n",
      "File \u001b[0;32m~/Library/Caches/pypoetry/virtualenvs/rxntools-wxNqzEGl-py3.12/lib/python3.12/site-packages/rdkit/Chem/Draw/IPythonConsole.py:219\u001b[0m, in \u001b[0;36m_GetSubstructMatches\u001b[0;34m(mol, query, *args, **kwargs)\u001b[0m\n\u001b[1;32m    218\u001b[0m \u001b[38;5;28;01mdef\u001b[39;00m \u001b[38;5;21m_GetSubstructMatches\u001b[39m(mol, query, \u001b[38;5;241m*\u001b[39margs, \u001b[38;5;241m*\u001b[39m\u001b[38;5;241m*\u001b[39mkwargs):\n\u001b[0;32m--> 219\u001b[0m   res \u001b[38;5;241m=\u001b[39m \u001b[43mmol\u001b[49m\u001b[38;5;241;43m.\u001b[39;49m\u001b[43m__GetSubstructMatches\u001b[49m\u001b[43m(\u001b[49m\u001b[43mquery\u001b[49m\u001b[43m,\u001b[49m\u001b[43m \u001b[49m\u001b[38;5;241;43m*\u001b[39;49m\u001b[43margs\u001b[49m\u001b[43m,\u001b[49m\u001b[43m \u001b[49m\u001b[38;5;241;43m*\u001b[39;49m\u001b[38;5;241;43m*\u001b[39;49m\u001b[43mkwargs\u001b[49m\u001b[43m)\u001b[49m\n\u001b[1;32m    220\u001b[0m   mol\u001b[38;5;241m.\u001b[39m__sssAtoms \u001b[38;5;241m=\u001b[39m []\n\u001b[1;32m    221\u001b[0m   \u001b[38;5;28;01mif\u001b[39;00m highlightSubstructs:\n",
      "\u001b[0;31mRuntimeError\u001b[0m: Pre-condition Violation\n\tgetNumImplicitHs() called without preceding call to calcImplicitValence()\n\tViolation occurred on line 289 in file Code/GraphMol/Atom.cpp\n\tFailed Expression: d_implicitValence > -1\n\tRDKIT: 2024.03.6\n\tBOOST: 1_85\n"
     ]
    }
   ],
   "source": [
    "Chem.MolFromSmarts('[N:1]#[C:2][C@&H1:3]([O&H1:4])[c:5]1[c&H1:6][c&H1:7][c&H1:8][c&H1:9][c&H1:10]1').GetSubstructMatches(Chem.MolFromSmarts('[c:5]([C@&H1:3])([c&H1:6])[c&H1:10]'))"
   ]
  },
  {
   "cell_type": "code",
   "execution_count": null,
   "id": "22742db6-7dcd-4fdc-bfac-6e2fa39d9b30",
   "metadata": {},
   "outputs": [],
   "source": []
  }
 ],
 "metadata": {
  "kernelspec": {
   "display_name": "Python 3 (ipykernel)",
   "language": "python",
   "name": "python3"
  },
  "language_info": {
   "codemirror_mode": {
    "name": "ipython",
    "version": 3
   },
   "file_extension": ".py",
   "mimetype": "text/x-python",
   "name": "python",
   "nbconvert_exporter": "python",
   "pygments_lexer": "ipython3",
   "version": "3.12.8"
  }
 },
 "nbformat": 4,
 "nbformat_minor": 5
}
