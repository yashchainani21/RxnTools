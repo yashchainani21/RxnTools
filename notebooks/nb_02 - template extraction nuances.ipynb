{
 "cells": [
  {
   "cell_type": "markdown",
   "id": "af338dfc-ef5e-4d3c-a70a-6b619bb8907b",
   "metadata": {},
   "source": [
    "In the first notebook, we looked at some basic functions of our custom `RxnTools` package to extract all transformed atoms and bonds from a given, fully-atom mapped reaction. Our ultimate goal is to be able to create reaction templates by encapsulating the substructures around each transformed atom. Fully-atom mapped input reaction SMARTS can help with this but there is a nuance due to the inherent mismatch between an input atom map and the inherent atom indices that RDKit uses. **For greatest accuracy with template extraction, the external atom-map needs to be aligned with RDKit's internal atom map.**"
   ]
  },
  {
   "cell_type": "code",
   "execution_count": 20,
   "id": "c7b04559-be2a-4395-a3b2-8a1c4d2bdc86",
   "metadata": {},
   "outputs": [],
   "source": [
    "from rxntools import reaction, utils, draw\n",
    "from rdkit import Chem\n",
    "from typing import List"
   ]
  },
  {
   "cell_type": "markdown",
   "id": "01c19bc3-4ca9-4455-bf45-56ba499cbdf8",
   "metadata": {},
   "source": [
    "Consider the following two functions - in the first, we don't align the externally fed atom-map with RDKit's internal atom-map while in the second, we perform this alignment:"
   ]
  },
  {
   "cell_type": "code",
   "execution_count": 41,
   "id": "9ce8322e-8885-4d17-aa9a-ce359be44b80",
   "metadata": {},
   "outputs": [
    {
     "data": {
      "image/png": "[encoded data removed]",
      "text/plain": [
       "<rdkit.Chem.rdchem.Mol at 0x10bbad540>"
      ]
     },
     "execution_count": 41,
     "metadata": {},
     "output_type": "execute_result"
    }
   ],
   "source": [
    "# Initialize a set to collect all atom indices in the environment\n",
    "atom_indices = set()\n",
    "\n",
    "substrate_mol = Chem.MolFromSmarts('[CH3:1][CH2:2][OH:3]')\n",
    "\n",
    "env = Chem.FindAtomEnvironmentOfRadiusN(substrate_mol, \n",
    "                                        radius = 1, \n",
    "                                        rootedAtAtom = 2,\n",
    "                                          atomMap = {'C':3,\n",
    "                                                     'C':4,\n",
    "                                                     'O':6})\n",
    "\n",
    "Chem.PathToSubmol(substrate_mol, env)"
   ]
  },
  {
   "cell_type": "code",
   "execution_count": 2,
   "id": "cf3116d6-1664-446a-b133-64b920637c17",
   "metadata": {},
   "outputs": [],
   "source": [
    "def get_template_without_aligning_atom_maps(atom_mapped_substrate_smarts: str, \n",
    "                                           radius: int, \n",
    "                                           reactive_atom_indices: List[str]) -> str:\n",
    "\n",
    "    substrate_mol = Chem.MolFromSmarts(atom_mapped_substrate_smarts)\n",
    "    if substrate_mol is None:\n",
    "        raise ValueError(\"Invalid SMARTS string provided.\")\n",
    "    \n",
    "    # Initialize a set to collect all atom indices in the environment\n",
    "    atom_indices = set()\n",
    "\n",
    "    # Loop through each reactive atom and find its environment\n",
    "    for atom_idx in reactive_atom_indices:\n",
    "        reaction_environment = Chem.FindAtomEnvironmentOfRadiusN(\n",
    "            mol=substrate_mol, \n",
    "            radius=radius, \n",
    "            rootedAtAtom=atom_idx\n",
    "        )\n",
    "        \n",
    "        # Collect atom indices from the bonds in this environment\n",
    "        for bond_idx in reaction_environment:\n",
    "            bond = substrate_mol.GetBondWithIdx(bond_idx)\n",
    "            atom_indices.add(bond.GetBeginAtomIdx())\n",
    "            atom_indices.add(bond.GetEndAtomIdx())\n",
    "\n",
    "    # Generate the SMARTS string for the combined environment\n",
    "    env_smarts = Chem.MolFragmentToSmarts(\n",
    "        substrate_mol, \n",
    "        atomsToUse=list(atom_indices)\n",
    "    )\n",
    "    \n",
    "    return env_smarts"
   ]
  },
  {
   "cell_type": "code",
   "execution_count": 3,
   "id": "524e2f87-0795-49f1-a2e9-59f33a8e41fd",
   "metadata": {},
   "outputs": [],
   "source": [
    "def get_template_after_aligning_atom_maps(atom_mapped_substrate_smarts: str,\n",
    "                                          radius: int,\n",
    "                                          reactive_atom_indices: List[str]):\n",
    "    \n",
    "    substrate_mol = Chem.MolFromSmarts(atom_mapped_substrate_smarts)\n",
    "    if substrate_mol is None:\n",
    "        raise ValueError(\"Invalid SMARTS string provided.\")\n",
    "\n",
    "    # initialize a set to store the union of all combined atom environments\n",
    "    combined_env = set()\n",
    "\n",
    "    # process each reactive site\n",
    "    for map_num in reactive_atom_indices:\n",
    "        # find the atom index corresponding to the atom map number\n",
    "        rooted_atom_index = None\n",
    "        for atom in substrate_mol.GetAtoms():\n",
    "            if atom.GetAtomMapNum() == map_num:\n",
    "                rooted_atom_index = atom.GetIdx()\n",
    "                break\n",
    "\n",
    "        if rooted_atom_index is None:\n",
    "            raise ValueError(f\"Atom with map number {map_num} not found!\")\n",
    "\n",
    "        # find the atom environment of the current atom\n",
    "        env = Chem.FindAtomEnvironmentOfRadiusN(substrate_mol, radius = radius, rootedAtAtom = rooted_atom_index)\n",
    "        combined_env.update(env)\n",
    "\n",
    "    # after all combined environments have been collected, convert to a sub-molecule\n",
    "    combined_submol = Chem.PathToSubmol(substrate_mol, list(combined_env))\n",
    "\n",
    "    # propagate atom map numbers to the sub-molecule\n",
    "    for atom in combined_submol.GetAtoms():\n",
    "        original_atom = substrate_mol.GetAtomWithIdx(atom.GetIdx())\n",
    "        atom.SetAtomMapNum(original_atom.GetAtomMapNum())\n",
    "\n",
    "    return Chem.MolToSmarts(combined_submol)"
   ]
  },
  {
   "cell_type": "markdown",
   "id": "27773e66-268a-4a13-8706-532255673bd3",
   "metadata": {},
   "source": [
    "#### Ethanol example:"
   ]
  },
  {
   "cell_type": "markdown",
   "id": "b7a93f65-d1b6-4eb3-8656-c66fdfe5fba3",
   "metadata": {},
   "source": [
    "Now, consider the simple example of ethanol with the following atom-map:"
   ]
  },
  {
   "cell_type": "code",
   "execution_count": 4,
   "id": "c0d9088d-89bc-4770-ad43-ebcc1afbd05a",
   "metadata": {},
   "outputs": [
    {
     "data": {
      "image/png": "[encoded data removed]",
      "text/plain": [
       "<rdkit.Chem.rdchem.Mol at 0x106d150e0>"
      ]
     },
     "execution_count": 4,
     "metadata": {},
     "output_type": "execute_result"
    }
   ],
   "source": [
    "Chem.MolFromSmarts('[CH3:1][CH2:2][OH:3]')"
   ]
  },
  {
   "cell_type": "markdown",
   "id": "b06f3b98-deab-4692-a602-901ecd6ea228",
   "metadata": {},
   "source": [
    "If we use the function `get_template_without_aligning_atom_maps` and anchor this at carbon C2, then we would expect both the atoms C1 and O3 to appear in the resulting template. However, C1 does not appear:"
   ]
  },
  {
   "cell_type": "code",
   "execution_count": 7,
   "id": "68a86120-2054-475b-ac7e-87ec83b8a4e7",
   "metadata": {},
   "outputs": [
    {
     "data": {
      "text/plain": [
       "'[C&H2:2][O&H1:3]'"
      ]
     },
     "execution_count": 7,
     "metadata": {},
     "output_type": "execute_result"
    }
   ],
   "source": [
    "template = get_template_without_aligning_atom_maps(atom_mapped_substrate_smarts = '[CH3:1][CH2:2][OH:3]',\n",
    "                                                   radius = 1,\n",
    "                                                   reactive_atom_indices = [2])\n",
    "\n",
    "template"
   ]
  },
  {
   "cell_type": "code",
   "execution_count": 8,
   "id": "a9cacf68-b013-4451-8627-abdf0726d141",
   "metadata": {},
   "outputs": [
    {
     "data": {
      "image/svg+xml": [
       "<svg xmlns=\"http://www.w3.org/2000/svg\" xmlns:rdkit=\"http://www.rdkit.org/xml\" xmlns:xlink=\"http://www.w3.org/1999/xlink\" version=\"1.1\" baseProfile=\"full\" xml:space=\"preserve\" width=\"400px\" height=\"200px\" viewBox=\"0 0 400 200\">\n",
       "<!-- END OF HEADER -->\n",
       "<rect style=\"opacity:1.0;fill:#FFFFFF;stroke:none\" width=\"400.0\" height=\"200.0\" x=\"0.0\" y=\"0.0\"> </rect>\n",
       "<path class=\"bond-1 atom-1 atom-2\" d=\"M 183.1,56.9 L 285.9,116.3 L 273.2,138.2 L 170.5,78.9 Z\" style=\"fill:#FF7F7F;fill-rule:evenodd;fill-opacity:1;stroke:#FF7F7F;stroke-width:0.0px;stroke-linecap:butt;stroke-linejoin:miter;stroke-opacity:1;\"/>\n",
       "<ellipse cx=\"176.8\" cy=\"70.3\" rx=\"37.1\" ry=\"23.7\" class=\"atom-1\" style=\"fill:#FF7F7F;fill-rule:evenodd;stroke:#FF7F7F;stroke-width:1.0px;stroke-linecap:butt;stroke-linejoin:miter;stroke-opacity:1\"/>\n",
       "<ellipse cx=\"308.5\" cy=\"129.7\" rx=\"59.3\" ry=\"23.8\" class=\"atom-2\" style=\"fill:#FF7F7F;fill-rule:evenodd;stroke:#FF7F7F;stroke-width:1.0px;stroke-linecap:butt;stroke-linejoin:miter;stroke-opacity:1\"/>\n",
       "<path class=\"bond-0 atom-0 atom-1\" d=\"M 86.5,120.0 L 146.6,85.3\" style=\"fill:none;fill-rule:evenodd;stroke:#000000;stroke-width:2.0px;stroke-linecap:butt;stroke-linejoin:miter;stroke-opacity:1\"/>\n",
       "<path class=\"bond-1 atom-1 atom-2\" d=\"M 207.0,85.3 L 234.8,101.4\" style=\"fill:none;fill-rule:evenodd;stroke:#000000;stroke-width:2.0px;stroke-linecap:butt;stroke-linejoin:miter;stroke-opacity:1\"/>\n",
       "<path class=\"bond-1 atom-1 atom-2\" d=\"M 234.8,101.4 L 262.7,117.5\" style=\"fill:none;fill-rule:evenodd;stroke:#FF0000;stroke-width:2.0px;stroke-linecap:butt;stroke-linejoin:miter;stroke-opacity:1\"/>\n",
       "<path class=\"atom-0\" d=\"M 32.2 127.4 Q 32.2 120.3, 35.4 116.6 Q 38.8 112.9, 45.0 112.9 Q 50.9 112.9, 54.0 117.0 L 51.4 119.2 Q 49.1 116.2, 45.0 116.2 Q 40.8 116.2, 38.5 119.1 Q 36.2 121.9, 36.2 127.4 Q 36.2 133.0, 38.6 135.8 Q 40.9 138.7, 45.5 138.7 Q 48.6 138.7, 52.2 136.8 L 53.4 139.8 Q 51.9 140.8, 49.6 141.4 Q 47.4 141.9, 44.9 141.9 Q 38.8 141.9, 35.4 138.2 Q 32.2 134.4, 32.2 127.4 \" fill=\"#000000\"/>\n",
       "<path class=\"atom-0\" d=\"M 57.0 136.9 L 61.0 136.9 L 61.0 140.9 L 57.0 140.9 L 57.0 136.9 M 57.0 123.1 L 61.0 123.1 L 61.0 127.1 L 57.0 127.1 L 57.0 123.1 \" fill=\"#000000\"/>\n",
       "<path class=\"atom-0\" d=\"M 67.0 138.4 L 73.2 138.4 L 73.2 117.2 L 66.4 119.3 L 65.5 117.0 L 74.1 113.1 L 77.0 113.6 L 77.0 138.4 L 82.5 138.4 L 82.5 141.6 L 67.0 141.6 L 67.0 138.4 \" fill=\"#000000\"/>\n",
       "<path class=\"atom-1\" d=\"M 150.5 68.0 Q 150.5 61.0, 153.8 57.3 Q 157.1 53.6, 163.4 53.6 Q 169.2 53.6, 172.4 57.7 L 169.7 59.8 Q 167.4 56.8, 163.4 56.8 Q 159.1 56.8, 156.8 59.7 Q 154.6 62.6, 154.6 68.0 Q 154.6 73.6, 156.9 76.5 Q 159.3 79.4, 163.8 79.4 Q 167.0 79.4, 170.6 77.5 L 171.7 80.5 Q 170.2 81.4, 168.0 82.0 Q 165.8 82.6, 163.3 82.6 Q 157.1 82.6, 153.8 78.8 Q 150.5 75.0, 150.5 68.0 \" fill=\"#000000\"/>\n",
       "<path class=\"atom-1\" d=\"M 175.5 77.5 L 179.5 77.5 L 179.5 81.5 L 175.5 81.5 L 175.5 77.5 M 175.5 63.8 L 179.5 63.8 L 179.5 67.8 L 175.5 67.8 L 175.5 63.8 \" fill=\"#000000\"/>\n",
       "<path class=\"atom-1\" d=\"M 184.0 59.2 Q 185.1 56.6, 187.6 55.1 Q 190.0 53.6, 193.5 53.6 Q 197.8 53.6, 200.2 55.9 Q 202.6 58.2, 202.6 62.3 Q 202.6 66.5, 199.4 70.4 Q 196.4 74.4, 190.0 79.0 L 203.0 79.0 L 203.0 82.2 L 184.0 82.2 L 184.0 79.5 Q 189.2 75.8, 192.4 73.0 Q 195.5 70.2, 197.0 67.6 Q 198.6 65.1, 198.6 62.5 Q 198.6 59.8, 197.2 58.3 Q 195.8 56.8, 193.5 56.8 Q 191.2 56.8, 189.7 57.7 Q 188.2 58.6, 187.1 60.6 L 184.0 59.2 \" fill=\"#000000\"/>\n",
       "<path class=\"atom-2\" d=\"M 266.6 127.3 Q 266.6 120.5, 269.9 116.7 Q 273.3 112.9, 279.6 112.9 Q 285.8 112.9, 289.2 116.7 Q 292.6 120.5, 292.6 127.3 Q 292.6 134.2, 289.2 138.1 Q 285.8 142.0, 279.6 142.0 Q 273.3 142.0, 269.9 138.1 Q 266.6 134.2, 266.6 127.3 M 279.6 138.8 Q 283.9 138.8, 286.2 135.9 Q 288.6 133.0, 288.6 127.3 Q 288.6 121.8, 286.2 119.0 Q 283.9 116.1, 279.6 116.1 Q 275.2 116.1, 272.9 118.9 Q 270.6 121.7, 270.6 127.3 Q 270.6 133.0, 272.9 135.9 Q 275.2 138.8, 279.6 138.8 \" fill=\"#FF0000\"/>\n",
       "<path class=\"atom-2\" d=\"M 296.3 136.9 L 300.3 136.9 L 300.3 140.9 L 296.3 140.9 L 296.3 136.9 M 296.3 123.1 L 300.3 123.1 L 300.3 127.1 L 296.3 127.1 L 296.3 123.1 \" fill=\"#FF0000\"/>\n",
       "<path class=\"atom-2\" d=\"M 318.7 126.6 Q 321.5 127.4, 322.8 129.2 Q 324.2 131.0, 324.2 133.8 Q 324.2 136.2, 323.0 138.1 Q 321.8 139.9, 319.6 141.0 Q 317.4 142.0, 314.5 142.0 Q 311.4 142.0, 309.2 140.9 Q 306.9 139.8, 305.1 137.7 L 307.4 135.4 Q 309.2 137.3, 310.6 138.0 Q 312.1 138.8, 314.5 138.8 Q 317.0 138.8, 318.6 137.4 Q 320.2 136.0, 320.2 133.8 Q 320.2 130.9, 318.5 129.6 Q 316.9 128.3, 313.4 128.3 L 311.4 128.3 L 311.4 125.4 L 313.2 125.4 Q 316.3 125.4, 317.9 124.0 Q 319.6 122.7, 319.6 120.2 Q 319.6 118.3, 318.2 117.2 Q 316.8 116.1, 314.5 116.1 Q 312.2 116.1, 310.7 117.0 Q 309.2 117.8, 308.1 119.9 L 305.4 118.4 Q 306.4 116.1, 308.8 114.5 Q 311.2 112.9, 314.5 112.9 Q 318.7 112.9, 321.1 114.9 Q 323.6 116.8, 323.6 120.2 Q 323.6 122.4, 322.3 124.1 Q 321.1 125.7, 318.7 126.6 \" fill=\"#FF0000\"/>\n",
       "<path class=\"atom-2\" d=\"M 328.3 113.2 L 332.1 113.2 L 332.1 125.3 L 346.6 125.3 L 346.6 113.2 L 350.5 113.2 L 350.5 141.6 L 346.6 141.6 L 346.6 128.5 L 332.1 128.5 L 332.1 141.6 L 328.3 141.6 L 328.3 113.2 \" fill=\"#FF0000\"/>\n",
       "</svg>"
      ],
      "text/plain": [
       "<IPython.core.display.SVG object>"
      ]
     },
     "execution_count": 8,
     "metadata": {},
     "output_type": "execute_result"
    }
   ],
   "source": [
    "draw.highlight_substructures_in_notebook(substrate_smarts = \"[CH3:1][CH2:2][OH:3]\",\n",
    "                                          substructure_smarts = template)"
   ]
  },
  {
   "cell_type": "markdown",
   "id": "8b152f01-fa12-4a7c-ba78-49210a5a65f0",
   "metadata": {},
   "source": [
    "Instead, let's try using the function `get_template_after_aligning_atom_maps` and again, we anchor this at carbon C2. Now, we find the C1 does appear in the resulting template:"
   ]
  },
  {
   "cell_type": "code",
   "execution_count": 9,
   "id": "f037c51e-0392-4733-87bb-e390d55e1df2",
   "metadata": {},
   "outputs": [
    {
     "data": {
      "text/plain": [
       "'[C&H3:1][C&H2:2][O&H1:3]'"
      ]
     },
     "execution_count": 9,
     "metadata": {},
     "output_type": "execute_result"
    }
   ],
   "source": [
    "template = get_template_after_aligning_atom_maps(atom_mapped_substrate_smarts = '[CH3:1][CH2:2][OH:3]',\n",
    "                                                   radius = 1,\n",
    "                                                   reactive_atom_indices = [2])\n",
    "\n",
    "template"
   ]
  },
  {
   "cell_type": "code",
   "execution_count": 10,
   "id": "039be8ee-9960-4db7-bb4f-a7ce7370f560",
   "metadata": {},
   "outputs": [
    {
     "data": {
      "image/svg+xml": [
       "<svg xmlns=\"http://www.w3.org/2000/svg\" xmlns:rdkit=\"http://www.rdkit.org/xml\" xmlns:xlink=\"http://www.w3.org/1999/xlink\" version=\"1.1\" baseProfile=\"full\" xml:space=\"preserve\" width=\"400px\" height=\"200px\" viewBox=\"0 0 400 200\">\n",
       "<!-- END OF HEADER -->\n",
       "<rect style=\"opacity:1.0;fill:#FFFFFF;stroke:none\" width=\"400.0\" height=\"200.0\" x=\"0.0\" y=\"0.0\"> </rect>\n",
       "<path class=\"bond-0 atom-0 atom-1\" d=\"M 182.0,54.7 L 182.0,82.9 L 88.8,136.8 L 76.5,115.6 Z\" style=\"fill:#FF7F7F;fill-rule:evenodd;fill-opacity:1;stroke:#FF7F7F;stroke-width:0.0px;stroke-linecap:butt;stroke-linejoin:miter;stroke-opacity:1;\"/>\n",
       "<path class=\"bond-1 atom-1 atom-2\" d=\"M 182.0,54.7 L 287.5,115.6 L 275.2,136.8 L 182.0,82.9 Z\" style=\"fill:#FF7F7F;fill-rule:evenodd;fill-opacity:1;stroke:#FF7F7F;stroke-width:0.0px;stroke-linecap:butt;stroke-linejoin:miter;stroke-opacity:1;\"/>\n",
       "<ellipse cx=\"66.0\" cy=\"128.5\" rx=\"35.6\" ry=\"23.6\" class=\"atom-0\" style=\"fill:#FF7F7F;fill-rule:evenodd;stroke:#FF7F7F;stroke-width:1.0px;stroke-linecap:butt;stroke-linejoin:miter;stroke-opacity:1\"/>\n",
       "<ellipse cx=\"182.0\" cy=\"71.2\" rx=\"37.1\" ry=\"23.6\" class=\"atom-1\" style=\"fill:#FF7F7F;fill-rule:evenodd;stroke:#FF7F7F;stroke-width:1.0px;stroke-linecap:butt;stroke-linejoin:miter;stroke-opacity:1\"/>\n",
       "<ellipse cx=\"310.3\" cy=\"128.7\" rx=\"59.3\" ry=\"23.8\" class=\"atom-2\" style=\"fill:#FF7F7F;fill-rule:evenodd;stroke:#FF7F7F;stroke-width:1.0px;stroke-linecap:butt;stroke-linejoin:miter;stroke-opacity:1\"/>\n",
       "<path class=\"bond-0 atom-0 atom-1\" d=\"M 95.0,119.1 L 152.0,86.2\" style=\"fill:none;fill-rule:evenodd;stroke:#000000;stroke-width:2.0px;stroke-linecap:butt;stroke-linejoin:miter;stroke-opacity:1\"/>\n",
       "<path class=\"bond-1 atom-1 atom-2\" d=\"M 212.0,86.2 L 238.3,101.3\" style=\"fill:none;fill-rule:evenodd;stroke:#000000;stroke-width:2.0px;stroke-linecap:butt;stroke-linejoin:miter;stroke-opacity:1\"/>\n",
       "<path class=\"bond-1 atom-1 atom-2\" d=\"M 238.3,101.3 L 264.6,116.5\" style=\"fill:none;fill-rule:evenodd;stroke:#FF0000;stroke-width:2.0px;stroke-linecap:butt;stroke-linejoin:miter;stroke-opacity:1\"/>\n",
       "<path class=\"atom-0\" d=\"M 40.8 126.3 Q 40.8 119.3, 44.1 115.6 Q 47.4 111.9, 53.7 111.9 Q 59.5 111.9, 62.6 116.0 L 60.0 118.1 Q 57.7 115.1, 53.7 115.1 Q 49.4 115.1, 47.1 118.0 Q 44.9 120.9, 44.9 126.3 Q 44.9 131.9, 47.2 134.8 Q 49.6 137.7, 54.1 137.7 Q 57.2 137.7, 60.9 135.8 L 62.0 138.8 Q 60.5 139.7, 58.3 140.3 Q 56.0 140.9, 53.6 140.9 Q 47.4 140.9, 44.1 137.1 Q 40.8 133.3, 40.8 126.3 \" fill=\"#000000\"/>\n",
       "<path class=\"atom-0\" d=\"M 65.7 135.8 L 69.7 135.8 L 69.7 139.8 L 65.7 139.8 L 65.7 135.8 M 65.7 122.1 L 69.7 122.1 L 69.7 126.1 L 65.7 126.1 L 65.7 122.1 \" fill=\"#000000\"/>\n",
       "<path class=\"atom-0\" d=\"M 75.7 137.3 L 81.9 137.3 L 81.9 116.1 L 75.0 118.3 L 74.1 115.9 L 82.8 112.0 L 85.6 112.5 L 85.6 137.3 L 91.2 137.3 L 91.2 140.5 L 75.7 140.5 L 75.7 137.3 \" fill=\"#000000\"/>\n",
       "<path class=\"atom-1\" d=\"M 155.7 68.9 Q 155.7 61.9, 159.0 58.2 Q 162.3 54.5, 168.6 54.5 Q 174.5 54.5, 177.6 58.6 L 174.9 60.8 Q 172.7 57.8, 168.6 57.8 Q 164.3 57.8, 162.1 60.7 Q 159.8 63.5, 159.8 68.9 Q 159.8 74.5, 162.1 77.4 Q 164.5 80.3, 169.1 80.3 Q 172.2 80.3, 175.8 78.4 L 176.9 81.4 Q 175.5 82.4, 173.2 82.9 Q 171.0 83.5, 168.5 83.5 Q 162.3 83.5, 159.0 79.7 Q 155.7 76.0, 155.7 68.9 \" fill=\"#000000\"/>\n",
       "<path class=\"atom-1\" d=\"M 180.7 78.5 L 184.7 78.5 L 184.7 82.5 L 180.7 82.5 L 180.7 78.5 M 180.7 64.7 L 184.7 64.7 L 184.7 68.7 L 180.7 68.7 L 180.7 64.7 \" fill=\"#000000\"/>\n",
       "<path class=\"atom-1\" d=\"M 189.3 60.2 Q 190.3 57.5, 192.8 56.0 Q 195.3 54.5, 198.7 54.5 Q 203.0 54.5, 205.4 56.8 Q 207.8 59.1, 207.8 63.3 Q 207.8 67.5, 204.7 71.4 Q 201.6 75.3, 195.2 79.9 L 208.3 79.9 L 208.3 83.1 L 189.2 83.1 L 189.2 80.5 Q 194.5 76.7, 197.6 73.9 Q 200.7 71.1, 202.3 68.6 Q 203.8 66.1, 203.8 63.5 Q 203.8 60.7, 202.4 59.2 Q 201.1 57.7, 198.7 57.7 Q 196.4 57.7, 194.9 58.6 Q 193.4 59.5, 192.3 61.6 L 189.3 60.2 \" fill=\"#000000\"/>\n",
       "<path class=\"atom-2\" d=\"M 268.4 126.3 Q 268.4 119.5, 271.7 115.7 Q 275.1 111.9, 281.4 111.9 Q 287.6 111.9, 291.0 115.7 Q 294.4 119.5, 294.4 126.3 Q 294.4 133.1, 291.0 137.1 Q 287.6 140.9, 281.4 140.9 Q 275.1 140.9, 271.7 137.1 Q 268.4 133.2, 268.4 126.3 M 281.4 137.7 Q 285.7 137.7, 288.0 134.9 Q 290.4 131.9, 290.4 126.3 Q 290.4 120.7, 288.0 117.9 Q 285.7 115.1, 281.4 115.1 Q 277.0 115.1, 274.7 117.9 Q 272.4 120.7, 272.4 126.3 Q 272.4 132.0, 274.7 134.9 Q 277.0 137.7, 281.4 137.7 \" fill=\"#FF0000\"/>\n",
       "<path class=\"atom-2\" d=\"M 298.1 135.8 L 302.1 135.8 L 302.1 139.8 L 298.1 139.8 L 298.1 135.8 M 298.1 122.1 L 302.1 122.1 L 302.1 126.1 L 298.1 126.1 L 298.1 122.1 \" fill=\"#FF0000\"/>\n",
       "<path class=\"atom-2\" d=\"M 320.5 125.6 Q 323.3 126.4, 324.6 128.2 Q 326.0 129.9, 326.0 132.7 Q 326.0 135.1, 324.8 137.0 Q 323.6 138.9, 321.4 139.9 Q 319.2 140.9, 316.3 140.9 Q 313.2 140.9, 311.0 139.9 Q 308.7 138.8, 306.9 136.6 L 309.2 134.3 Q 311.0 136.2, 312.4 137.0 Q 313.9 137.7, 316.3 137.7 Q 318.8 137.7, 320.4 136.3 Q 322.0 134.9, 322.0 132.7 Q 322.0 129.8, 320.3 128.5 Q 318.7 127.2, 315.2 127.2 L 313.2 127.2 L 313.2 124.3 L 315.0 124.3 Q 318.1 124.3, 319.7 123.0 Q 321.4 121.6, 321.4 119.1 Q 321.4 117.3, 320.0 116.2 Q 318.6 115.1, 316.3 115.1 Q 314.0 115.1, 312.5 115.9 Q 311.0 116.7, 309.9 118.9 L 307.2 117.4 Q 308.2 115.0, 310.6 113.5 Q 313.0 111.9, 316.3 111.9 Q 320.5 111.9, 322.9 113.8 Q 325.4 115.8, 325.4 119.1 Q 325.4 121.4, 324.1 123.0 Q 322.9 124.7, 320.5 125.6 \" fill=\"#FF0000\"/>\n",
       "<path class=\"atom-2\" d=\"M 330.1 112.2 L 333.9 112.2 L 333.9 124.2 L 348.4 124.2 L 348.4 112.2 L 352.3 112.2 L 352.3 140.5 L 348.4 140.5 L 348.4 127.4 L 333.9 127.4 L 333.9 140.5 L 330.1 140.5 L 330.1 112.2 \" fill=\"#FF0000\"/>\n",
       "</svg>"
      ],
      "text/plain": [
       "<IPython.core.display.SVG object>"
      ]
     },
     "execution_count": 10,
     "metadata": {},
     "output_type": "execute_result"
    }
   ],
   "source": [
    "draw.highlight_substructures_in_notebook(substrate_smarts = \"[CH3:1][CH2:2][OH:3]\",\n",
    "                                          substructure_smarts = template)"
   ]
  },
  {
   "cell_type": "markdown",
   "id": "ed2a84a1-0830-48ac-ba53-a1b86409e089",
   "metadata": {},
   "source": [
    "#### Mandelonitrile example:"
   ]
  },
  {
   "cell_type": "markdown",
   "id": "dc24afdb-a625-43ee-bdf0-8961dad1a3d4",
   "metadata": {},
   "source": [
    "Now, consider a slightly more involved example involving mandelonitrile:"
   ]
  },
  {
   "cell_type": "code",
   "execution_count": 15,
   "id": "01b212e4-1d67-46e6-82a7-7e52e52c36fe",
   "metadata": {},
   "outputs": [
    {
     "data": {
      "image/png": "[encoded data removed]",
      "text/plain": [
       "<rdkit.Chem.rdchem.Mol at 0x10b8bba70>"
      ]
     },
     "execution_count": 15,
     "metadata": {},
     "output_type": "execute_result"
    }
   ],
   "source": [
    "mandelonitrile_smarts = '[N:1]#[C:2][C@H:3]([OH:4])[c:5]1[cH:6][cH:7][cH:8][cH:9][cH:10]1'\n",
    "\n",
    "Chem.MolFromSmarts(mandelonitrile_smarts)"
   ]
  },
  {
   "cell_type": "markdown",
   "id": "042a8848-e382-4e9e-a42a-6ccb15c834c4",
   "metadata": {},
   "source": [
    "This time, let's start at the carbon atom with index 3, i.e. C3. If we were to go 1 bond around C3, we would expect the atoms C2, O4, and C5 to be encapsulated within the resulting substructure. Using the function `get_template_without_aligning_atom_maps`, however, we get a slightly different environment back:"
   ]
  },
  {
   "cell_type": "code",
   "execution_count": 16,
   "id": "f1bbcf8b-e0bc-4a2f-9d63-0417742c8cff",
   "metadata": {},
   "outputs": [
    {
     "data": {
      "text/plain": [
       "'[O&H1:4][C@&H1:3]'"
      ]
     },
     "execution_count": 16,
     "metadata": {},
     "output_type": "execute_result"
    }
   ],
   "source": [
    "template = get_template_without_aligning_atom_maps(atom_mapped_substrate_smarts = mandelonitrile_smarts,\n",
    "                                                   radius = 1,\n",
    "                                                   reactive_atom_indices = [3])\n",
    "\n",
    "template"
   ]
  },
  {
   "cell_type": "code",
   "execution_count": 17,
   "id": "7e1730c3-a1f8-42ae-a317-7403b43e2064",
   "metadata": {},
   "outputs": [
    {
     "data": {
      "image/svg+xml": [
       "<svg xmlns=\"http://www.w3.org/2000/svg\" xmlns:rdkit=\"http://www.rdkit.org/xml\" xmlns:xlink=\"http://www.w3.org/1999/xlink\" version=\"1.1\" baseProfile=\"full\" xml:space=\"preserve\" width=\"400px\" height=\"200px\" viewBox=\"0 0 400 200\">\n",
       "<!-- END OF HEADER -->\n",
       "<rect style=\"opacity:1.0;fill:#FFFFFF;stroke:none\" width=\"400.0\" height=\"200.0\" x=\"0.0\" y=\"0.0\"> </rect>\n",
       "<path class=\"bond-2 atom-2 atom-3\" d=\"M 148.3,111.7 L 161.2,115.0 L 145.9,175.5 L 133.0,172.2 Z\" style=\"fill:#FF7F7F;fill-rule:evenodd;fill-opacity:1;stroke:#FF7F7F;stroke-width:0.0px;stroke-linecap:butt;stroke-linejoin:miter;stroke-opacity:1;\"/>\n",
       "<ellipse cx=\"154.8\" cy=\"114.9\" rx=\"23.2\" ry=\"14.8\" class=\"atom-2\" style=\"fill:#FF7F7F;fill-rule:evenodd;stroke:#FF7F7F;stroke-width:1.0px;stroke-linecap:butt;stroke-linejoin:miter;stroke-opacity:1\"/>\n",
       "<ellipse cx=\"158.3\" cy=\"175.3\" rx=\"38.2\" ry=\"14.7\" class=\"atom-3\" style=\"fill:#FF7F7F;fill-rule:evenodd;stroke:#FF7F7F;stroke-width:1.0px;stroke-linecap:butt;stroke-linejoin:miter;stroke-opacity:1\"/>\n",
       "<path class=\"bond-0 atom-0 atom-1\" d=\"M 72.7,33.4 L 85.7,46.1\" style=\"fill:none;fill-rule:evenodd;stroke:#0000FF;stroke-width:2.0px;stroke-linecap:butt;stroke-linejoin:miter;stroke-opacity:1\"/>\n",
       "<path class=\"bond-0 atom-0 atom-1\" d=\"M 85.7,46.1 L 98.8,58.8\" style=\"fill:none;fill-rule:evenodd;stroke:#000000;stroke-width:2.0px;stroke-linecap:butt;stroke-linejoin:miter;stroke-opacity:1\"/>\n",
       "<path class=\"bond-0 atom-0 atom-1\" d=\"M 79.2,26.7 L 92.3,39.4\" style=\"fill:none;fill-rule:evenodd;stroke:#0000FF;stroke-width:2.0px;stroke-linecap:butt;stroke-linejoin:miter;stroke-opacity:1\"/>\n",
       "<path class=\"bond-0 atom-0 atom-1\" d=\"M 92.3,39.4 L 105.3,52.1\" style=\"fill:none;fill-rule:evenodd;stroke:#000000;stroke-width:2.0px;stroke-linecap:butt;stroke-linejoin:miter;stroke-opacity:1\"/>\n",
       "<path class=\"bond-0 atom-0 atom-1\" d=\"M 66.2,40.2 L 79.2,52.8\" style=\"fill:none;fill-rule:evenodd;stroke:#0000FF;stroke-width:2.0px;stroke-linecap:butt;stroke-linejoin:miter;stroke-opacity:1\"/>\n",
       "<path class=\"bond-0 atom-0 atom-1\" d=\"M 79.2,52.8 L 92.2,65.5\" style=\"fill:none;fill-rule:evenodd;stroke:#000000;stroke-width:2.0px;stroke-linecap:butt;stroke-linejoin:miter;stroke-opacity:1\"/>\n",
       "<path class=\"bond-1 atom-1 atom-2\" d=\"M 121.3,80.8 L 143.5,102.4\" style=\"fill:none;fill-rule:evenodd;stroke:#000000;stroke-width:2.0px;stroke-linecap:butt;stroke-linejoin:miter;stroke-opacity:1\"/>\n",
       "<path class=\"bond-2 atom-2 atom-3\" d=\"M 150.7,129.5 L 149.0,145.7 L 144.4,144.6 Z\" style=\"fill:#000000;fill-rule:evenodd;fill-opacity:1;stroke:#000000;stroke-width:0.5px;stroke-linecap:butt;stroke-linejoin:miter;stroke-opacity:1;\"/>\n",
       "<path class=\"bond-2 atom-2 atom-3\" d=\"M 149.0,145.7 L 138.2,159.7 L 147.3,162.0 Z\" style=\"fill:#FF0000;fill-rule:evenodd;fill-opacity:1;stroke:#FF0000;stroke-width:0.5px;stroke-linecap:butt;stroke-linejoin:miter;stroke-opacity:1;\"/>\n",
       "<path class=\"bond-2 atom-2 atom-3\" d=\"M 149.0,145.7 L 144.4,144.6 L 138.2,159.7 Z\" style=\"fill:#FF0000;fill-rule:evenodd;fill-opacity:1;stroke:#FF0000;stroke-width:0.5px;stroke-linecap:butt;stroke-linejoin:miter;stroke-opacity:1;\"/>\n",
       "<path class=\"bond-3 atom-2 atom-4\" d=\"M 173.2,108.2 L 196.4,101.6\" style=\"fill:none;fill-rule:evenodd;stroke:#000000;stroke-width:2.0px;stroke-linecap:butt;stroke-linejoin:miter;stroke-opacity:1\"/>\n",
       "<path class=\"bond-4 atom-4 atom-5\" d=\"M 217.6,85.6 L 227.4,47.1\" style=\"fill:none;fill-rule:evenodd;stroke:#000000;stroke-width:2.0px;stroke-linecap:butt;stroke-linejoin:miter;stroke-opacity:1\"/>\n",
       "<path class=\"bond-4 atom-4 atom-5\" d=\"M 226.7,87.9 L 236.5,49.4\" style=\"fill:none;fill-rule:evenodd;stroke:#000000;stroke-width:2.0px;stroke-linecap:butt;stroke-linejoin:miter;stroke-opacity:1\"/>\n",
       "<path class=\"bond-5 atom-5 atom-6\" d=\"M 238.4,33.6 L 272.0,24.1\" style=\"fill:none;fill-rule:evenodd;stroke:#000000;stroke-width:2.0px;stroke-linecap:butt;stroke-linejoin:miter;stroke-opacity:1\"/>\n",
       "<path class=\"bond-6 atom-6 atom-7\" d=\"M 301.6,29.9 L 326.2,53.9\" style=\"fill:none;fill-rule:evenodd;stroke:#000000;stroke-width:2.0px;stroke-linecap:butt;stroke-linejoin:miter;stroke-opacity:1\"/>\n",
       "<path class=\"bond-6 atom-6 atom-7\" d=\"M 295.1,36.7 L 319.6,60.6\" style=\"fill:none;fill-rule:evenodd;stroke:#000000;stroke-width:2.0px;stroke-linecap:butt;stroke-linejoin:miter;stroke-opacity:1\"/>\n",
       "<path class=\"bond-7 atom-7 atom-8\" d=\"M 332.2,73.7 L 322.5,112.0\" style=\"fill:none;fill-rule:evenodd;stroke:#000000;stroke-width:2.0px;stroke-linecap:butt;stroke-linejoin:miter;stroke-opacity:1\"/>\n",
       "<path class=\"bond-8 atom-8 atom-9\" d=\"M 310.8,125.5 L 285.0,132.8\" style=\"fill:none;fill-rule:evenodd;stroke:#000000;stroke-width:2.0px;stroke-linecap:butt;stroke-linejoin:miter;stroke-opacity:1\"/>\n",
       "<path class=\"bond-8 atom-8 atom-9\" d=\"M 308.3,116.5 L 282.4,123.8\" style=\"fill:none;fill-rule:evenodd;stroke:#000000;stroke-width:2.0px;stroke-linecap:butt;stroke-linejoin:miter;stroke-opacity:1\"/>\n",
       "<path class=\"bond-9 atom-9 atom-4\" d=\"M 248.3,129.0 L 226.4,107.6\" style=\"fill:none;fill-rule:evenodd;stroke:#000000;stroke-width:2.0px;stroke-linecap:butt;stroke-linejoin:miter;stroke-opacity:1\"/>\n",
       "<path class=\"atom-0\" d=\"M 41.2 17.5 L 47.0 26.8 Q 47.5 27.7, 48.5 29.4 Q 49.4 31.1, 49.4 31.2 L 49.4 17.5 L 51.8 17.5 L 51.8 35.1 L 49.4 35.1 L 43.1 24.9 Q 42.4 23.7, 41.6 22.3 Q 40.9 20.9, 40.7 20.5 L 40.7 35.1 L 38.4 35.1 L 38.4 17.5 L 41.2 17.5 \" fill=\"#0000FF\"/>\n",
       "<path class=\"atom-0\" d=\"M 54.7 32.2 L 57.2 32.2 L 57.2 34.7 L 54.7 34.7 L 54.7 32.2 M 54.7 23.6 L 57.2 23.6 L 57.2 26.1 L 54.7 26.1 L 54.7 23.6 \" fill=\"#0000FF\"/>\n",
       "<path class=\"atom-0\" d=\"M 61.0 33.1 L 64.8 33.1 L 64.8 19.9 L 60.6 21.2 L 60.0 19.8 L 65.4 17.4 L 67.2 17.7 L 67.2 33.1 L 70.7 33.1 L 70.7 35.1 L 61.0 35.1 L 61.0 33.1 \" fill=\"#0000FF\"/>\n",
       "<path class=\"atom-1\" d=\"M 93.7 69.9 Q 93.7 65.5, 95.7 63.2 Q 97.8 60.9, 101.7 60.9 Q 105.3 60.9, 107.3 63.4 L 105.6 64.8 Q 104.2 62.9, 101.7 62.9 Q 99.0 62.9, 97.6 64.7 Q 96.2 66.5, 96.2 69.9 Q 96.2 73.4, 97.7 75.2 Q 99.1 77.0, 102.0 77.0 Q 103.9 77.0, 106.2 75.8 L 106.9 77.7 Q 106.0 78.3, 104.6 78.6 Q 103.2 79.0, 101.6 79.0 Q 97.8 79.0, 95.7 76.6 Q 93.7 74.3, 93.7 69.9 \" fill=\"#000000\"/>\n",
       "<path class=\"atom-1\" d=\"M 109.2 75.8 L 111.7 75.8 L 111.7 78.3 L 109.2 78.3 L 109.2 75.8 M 109.2 67.2 L 111.7 67.2 L 111.7 69.7 L 109.2 69.7 L 109.2 67.2 \" fill=\"#000000\"/>\n",
       "<path class=\"atom-1\" d=\"M 114.6 64.4 Q 115.2 62.7, 116.8 61.8 Q 118.3 60.9, 120.5 60.9 Q 123.1 60.9, 124.6 62.3 Q 126.1 63.8, 126.1 66.3 Q 126.1 69.0, 124.2 71.4 Q 122.3 73.9, 118.3 76.7 L 126.4 76.7 L 126.4 78.7 L 114.5 78.7 L 114.5 77.1 Q 117.8 74.7, 119.8 73.0 Q 121.7 71.2, 122.7 69.7 Q 123.6 68.1, 123.6 66.5 Q 123.6 64.8, 122.8 63.8 Q 121.9 62.9, 120.5 62.9 Q 119.1 62.9, 118.1 63.4 Q 117.2 64.0, 116.5 65.3 L 114.6 64.4 \" fill=\"#000000\"/>\n",
       "<path class=\"atom-2\" d=\"M 138.4 113.4 Q 138.4 109.0, 140.4 106.8 Q 142.5 104.4, 146.4 104.4 Q 150.1 104.4, 152.0 107.0 L 150.4 108.3 Q 149.0 106.5, 146.4 106.5 Q 143.8 106.5, 142.3 108.3 Q 140.9 110.0, 140.9 113.4 Q 140.9 116.9, 142.4 118.7 Q 143.9 120.5, 146.7 120.5 Q 148.7 120.5, 150.9 119.4 L 151.6 121.2 Q 150.7 121.8, 149.3 122.2 Q 147.9 122.5, 146.4 122.5 Q 142.5 122.5, 140.4 120.2 Q 138.4 117.8, 138.4 113.4 \" fill=\"#000000\"/>\n",
       "<path class=\"atom-2\" d=\"M 154.0 119.4 L 156.5 119.4 L 156.5 121.9 L 154.0 121.9 L 154.0 119.4 M 154.0 110.8 L 156.5 110.8 L 156.5 113.3 L 154.0 113.3 L 154.0 110.8 \" fill=\"#000000\"/>\n",
       "<path class=\"atom-2\" d=\"M 167.8 113.0 Q 169.5 113.5, 170.3 114.6 Q 171.2 115.7, 171.2 117.5 Q 171.2 119.0, 170.4 120.1 Q 169.7 121.3, 168.3 121.9 Q 166.9 122.6, 165.1 122.6 Q 163.2 122.6, 161.8 121.9 Q 160.4 121.2, 159.3 119.9 L 160.7 118.4 Q 161.8 119.6, 162.7 120.1 Q 163.6 120.6, 165.1 120.6 Q 166.7 120.6, 167.7 119.7 Q 168.7 118.8, 168.7 117.4 Q 168.7 115.6, 167.6 114.8 Q 166.6 114.0, 164.5 114.0 L 163.2 114.0 L 163.2 112.2 L 164.3 112.2 Q 166.2 112.2, 167.3 111.4 Q 168.3 110.5, 168.3 108.9 Q 168.3 107.8, 167.4 107.1 Q 166.6 106.4, 165.1 106.4 Q 163.7 106.4, 162.7 107.0 Q 161.8 107.5, 161.1 108.8 L 159.4 107.9 Q 160.0 106.4, 161.5 105.4 Q 163.0 104.4, 165.1 104.4 Q 167.7 104.4, 169.3 105.7 Q 170.8 106.9, 170.8 108.9 Q 170.8 110.4, 170.0 111.4 Q 169.2 112.4, 167.8 113.0 \" fill=\"#000000\"/>\n",
       "<path class=\"atom-3\" d=\"M 131.3 173.9 Q 131.3 169.7, 133.4 167.3 Q 135.5 164.9, 139.4 164.9 Q 143.3 164.9, 145.4 167.3 Q 147.5 169.7, 147.5 173.9 Q 147.5 178.2, 145.4 180.7 Q 143.3 183.1, 139.4 183.1 Q 135.5 183.1, 133.4 180.7 Q 131.3 178.3, 131.3 173.9 M 139.4 181.1 Q 142.1 181.1, 143.6 179.3 Q 145.0 177.5, 145.0 173.9 Q 145.0 170.5, 143.6 168.7 Q 142.1 166.9, 139.4 166.9 Q 136.7 166.9, 135.2 168.7 Q 133.8 170.4, 133.8 173.9 Q 133.8 177.5, 135.2 179.3 Q 136.7 181.1, 139.4 181.1 \" fill=\"#FF0000\"/>\n",
       "<path class=\"atom-3\" d=\"M 149.9 179.9 L 152.4 179.9 L 152.4 182.4 L 149.9 182.4 L 149.9 179.9 M 149.9 171.3 L 152.4 171.3 L 152.4 173.8 L 149.9 173.8 L 149.9 171.3 \" fill=\"#FF0000\"/>\n",
       "<path class=\"atom-3\" d=\"M 167.0 176.8 L 169.1 176.8 L 169.1 178.8 L 167.0 178.8 L 167.0 182.8 L 164.6 182.8 L 164.6 178.8 L 155.5 178.8 L 155.5 177.2 L 163.2 165.1 L 167.0 165.1 L 167.0 176.8 M 158.4 176.8 L 164.6 176.8 L 164.6 166.7 L 158.4 176.8 \" fill=\"#FF0000\"/>\n",
       "<path class=\"atom-3\" d=\"M 171.5 165.1 L 173.8 165.1 L 173.8 172.7 L 182.9 172.7 L 182.9 165.1 L 185.3 165.1 L 185.3 182.8 L 182.9 182.8 L 182.9 174.7 L 173.8 174.7 L 173.8 182.8 L 171.5 182.8 L 171.5 165.1 \" fill=\"#FF0000\"/>\n",
       "<path class=\"atom-4\" d=\"M 198.5 96.5 Q 198.5 92.1, 200.5 89.8 Q 202.6 87.5, 206.5 87.5 Q 210.1 87.5, 212.1 90.0 L 210.4 91.4 Q 209.0 89.5, 206.5 89.5 Q 203.8 89.5, 202.4 91.3 Q 201.0 93.1, 201.0 96.5 Q 201.0 100.0, 202.4 101.8 Q 203.9 103.6, 206.8 103.6 Q 208.7 103.6, 211.0 102.4 L 211.7 104.3 Q 210.8 104.9, 209.4 105.2 Q 208.0 105.6, 206.4 105.6 Q 202.6 105.6, 200.5 103.2 Q 198.5 100.9, 198.5 96.5 \" fill=\"#000000\"/>\n",
       "<path class=\"atom-4\" d=\"M 214.0 102.4 L 216.5 102.4 L 216.5 104.9 L 214.0 104.9 L 214.0 102.4 M 214.0 93.8 L 216.5 93.8 L 216.5 96.3 L 214.0 96.3 L 214.0 93.8 \" fill=\"#000000\"/>\n",
       "<path class=\"atom-4\" d=\"M 225.7 94.3 Q 227.3 94.3, 228.6 95.0 Q 229.8 95.6, 230.6 96.9 Q 231.3 98.1, 231.3 99.8 Q 231.3 101.6, 230.4 102.9 Q 229.5 104.2, 228.1 104.9 Q 226.6 105.6, 225.0 105.6 Q 223.4 105.6, 221.9 105.0 Q 220.4 104.4, 219.3 103.2 L 220.8 101.7 Q 221.7 102.6, 222.8 103.1 Q 223.9 103.5, 225.0 103.5 Q 226.6 103.5, 227.7 102.6 Q 228.8 101.6, 228.8 99.8 Q 228.8 97.9, 227.7 97.1 Q 226.6 96.2, 224.9 96.2 Q 223.4 96.2, 221.6 96.8 L 220.3 96.2 L 221.1 87.7 L 230.2 87.7 L 229.9 89.7 L 223.2 89.7 L 222.6 94.9 Q 224.2 94.3, 225.7 94.3 \" fill=\"#000000\"/>\n",
       "<path class=\"atom-5\" d=\"M 203.2 36.0 Q 203.2 31.6, 205.3 29.3 Q 207.3 27.0, 211.2 27.0 Q 214.9 27.0, 216.8 29.5 L 215.2 30.9 Q 213.8 29.0, 211.2 29.0 Q 208.6 29.0, 207.1 30.8 Q 205.8 32.6, 205.8 36.0 Q 205.8 39.5, 207.2 41.3 Q 208.7 43.1, 211.5 43.1 Q 213.5 43.1, 215.7 41.9 L 216.4 43.8 Q 215.5 44.4, 214.1 44.7 Q 212.7 45.1, 211.2 45.1 Q 207.3 45.1, 205.3 42.7 Q 203.2 40.4, 203.2 36.0 \" fill=\"#000000\"/>\n",
       "<path class=\"atom-5\" d=\"M 218.8 41.9 L 221.3 41.9 L 221.3 44.4 L 218.8 44.4 L 218.8 41.9 M 218.8 33.3 L 221.3 33.3 L 221.3 35.8 L 218.8 35.8 L 218.8 33.3 \" fill=\"#000000\"/>\n",
       "<path class=\"atom-5\" d=\"M 231.0 33.8 Q 232.6 33.8, 233.8 34.5 Q 235.0 35.1, 235.7 36.4 Q 236.4 37.6, 236.4 39.1 Q 236.4 40.9, 235.6 42.2 Q 234.8 43.5, 233.5 44.3 Q 232.1 45.0, 230.4 45.0 Q 227.3 45.0, 225.7 42.9 Q 224.1 40.8, 224.1 36.5 Q 224.1 31.8, 226.1 29.4 Q 228.0 27.0, 231.8 27.0 Q 232.9 27.0, 233.8 27.2 Q 234.8 27.5, 235.7 28.0 L 234.7 29.7 Q 233.4 29.0, 231.8 29.0 Q 229.3 29.0, 228.0 30.6 Q 226.8 32.2, 226.6 35.5 Q 227.5 34.7, 228.6 34.2 Q 229.8 33.8, 231.0 33.8 M 230.4 43.0 Q 231.4 43.0, 232.2 42.5 Q 233.0 42.0, 233.4 41.1 Q 233.9 40.2, 233.9 39.2 Q 233.9 37.6, 233.0 36.7 Q 232.1 35.8, 230.6 35.8 Q 229.5 35.8, 228.4 36.2 Q 227.4 36.7, 226.6 37.4 Q 226.7 40.3, 227.6 41.7 Q 228.6 43.0, 230.4 43.0 \" fill=\"#000000\"/>\n",
       "<path class=\"atom-6\" d=\"M 274.0 19.0 Q 274.0 14.6, 276.1 12.3 Q 278.1 10.0, 282.1 10.0 Q 285.7 10.0, 287.7 12.6 L 286.0 13.9 Q 284.6 12.0, 282.1 12.0 Q 279.4 12.0, 278.0 13.8 Q 276.6 15.6, 276.6 19.0 Q 276.6 22.5, 278.0 24.3 Q 279.5 26.1, 282.3 26.1 Q 284.3 26.1, 286.6 24.9 L 287.3 26.8 Q 286.3 27.4, 284.9 27.8 Q 283.5 28.1, 282.0 28.1 Q 278.1 28.1, 276.1 25.8 Q 274.0 23.4, 274.0 19.0 \" fill=\"#000000\"/>\n",
       "<path class=\"atom-6\" d=\"M 289.6 25.0 L 292.1 25.0 L 292.1 27.5 L 289.6 27.5 L 289.6 25.0 M 289.6 16.4 L 292.1 16.4 L 292.1 18.9 L 289.6 18.9 L 289.6 16.4 \" fill=\"#000000\"/>\n",
       "<path class=\"atom-6\" d=\"M 304.2 12.2 L 294.9 12.2 L 294.9 10.2 L 306.6 10.2 L 306.6 12.0 L 299.5 27.9 L 297.1 27.9 L 304.2 12.2 \" fill=\"#000000\"/>\n",
       "<path class=\"atom-7\" d=\"M 328.2 62.6 Q 328.2 58.2, 330.3 55.9 Q 332.4 53.6, 336.3 53.6 Q 339.9 53.6, 341.9 56.1 L 340.2 57.5 Q 338.8 55.6, 336.3 55.6 Q 333.6 55.6, 332.2 57.4 Q 330.8 59.2, 330.8 62.6 Q 330.8 66.1, 332.2 67.9 Q 333.7 69.7, 336.6 69.7 Q 338.5 69.7, 340.8 68.5 L 341.5 70.4 Q 340.5 71.0, 339.2 71.3 Q 337.8 71.7, 336.2 71.7 Q 332.4 71.7, 330.3 69.3 Q 328.2 67.0, 328.2 62.6 \" fill=\"#000000\"/>\n",
       "<path class=\"atom-7\" d=\"M 343.8 68.5 L 346.3 68.5 L 346.3 71.0 L 343.8 71.0 L 343.8 68.5 M 343.8 59.9 L 346.3 59.9 L 346.3 62.4 L 343.8 62.4 L 343.8 59.9 \" fill=\"#000000\"/>\n",
       "<path class=\"atom-7\" d=\"M 358.2 62.1 Q 359.8 62.8, 360.7 63.8 Q 361.6 64.9, 361.6 66.6 Q 361.6 68.1, 360.9 69.3 Q 360.1 70.4, 358.7 71.1 Q 357.3 71.7, 355.5 71.7 Q 352.5 71.7, 350.8 70.3 Q 349.2 69.0, 349.2 66.6 Q 349.2 65.2, 349.9 64.1 Q 350.6 63.0, 352.2 62.2 Q 351.0 61.5, 350.4 60.6 Q 349.8 59.6, 349.8 58.1 Q 349.8 56.0, 351.3 54.8 Q 352.8 53.6, 355.4 53.6 Q 358.0 53.6, 359.5 54.8 Q 361.0 56.0, 361.0 58.1 Q 361.0 59.4, 360.3 60.4 Q 359.6 61.3, 358.2 62.1 M 355.4 55.4 Q 353.9 55.4, 353.1 56.1 Q 352.3 56.8, 352.3 58.1 Q 352.3 59.0, 352.8 59.6 Q 353.4 60.2, 354.2 60.6 Q 355.0 60.9, 356.5 61.5 Q 357.6 60.7, 358.0 59.9 Q 358.5 59.1, 358.5 58.1 Q 358.5 56.8, 357.7 56.1 Q 356.9 55.4, 355.4 55.4 M 355.5 69.8 Q 357.1 69.8, 358.1 68.9 Q 359.1 68.0, 359.1 66.6 Q 359.1 65.6, 358.6 65.0 Q 358.1 64.4, 357.3 64.1 Q 356.5 63.7, 355.1 63.3 L 354.0 62.9 Q 352.7 63.7, 352.2 64.6 Q 351.6 65.4, 351.6 66.6 Q 351.6 68.0, 352.7 68.9 Q 353.7 69.8, 355.5 69.8 \" fill=\"#000000\"/>\n",
       "<path class=\"atom-8\" d=\"M 312.9 123.1 Q 312.9 118.7, 314.9 116.4 Q 317.0 114.1, 320.9 114.1 Q 324.6 114.1, 326.5 116.7 L 324.9 118.0 Q 323.4 116.1, 320.9 116.1 Q 318.2 116.1, 316.8 117.9 Q 315.4 119.7, 315.4 123.1 Q 315.4 126.6, 316.9 128.4 Q 318.3 130.2, 321.2 130.2 Q 323.1 130.2, 325.4 129.0 L 326.1 130.9 Q 325.2 131.5, 323.8 131.8 Q 322.4 132.2, 320.8 132.2 Q 317.0 132.2, 314.9 129.8 Q 312.9 127.5, 312.9 123.1 \" fill=\"#000000\"/>\n",
       "<path class=\"atom-8\" d=\"M 328.5 129.0 L 331.0 129.0 L 331.0 131.5 L 328.5 131.5 L 328.5 129.0 M 328.5 120.5 L 331.0 120.5 L 331.0 122.9 L 328.5 122.9 L 328.5 120.5 \" fill=\"#000000\"/>\n",
       "<path class=\"atom-8\" d=\"M 339.7 114.1 Q 342.9 114.1, 344.4 116.2 Q 346.0 118.4, 346.0 122.6 Q 346.0 127.3, 344.1 129.7 Q 342.1 132.2, 338.3 132.2 Q 337.2 132.2, 336.3 131.9 Q 335.4 131.7, 334.5 131.1 L 335.4 129.5 Q 336.7 130.2, 338.3 130.2 Q 340.8 130.2, 342.1 128.6 Q 343.4 126.9, 343.5 123.6 Q 342.6 124.4, 341.5 124.9 Q 340.3 125.3, 339.1 125.3 Q 337.6 125.3, 336.3 124.6 Q 335.1 124.0, 334.4 122.7 Q 333.8 121.5, 333.8 120.0 Q 333.8 118.3, 334.5 116.9 Q 335.3 115.6, 336.6 114.8 Q 338.0 114.1, 339.7 114.1 M 336.3 120.0 Q 336.3 121.5, 337.1 122.4 Q 338.0 123.3, 339.6 123.3 Q 340.6 123.3, 341.7 122.9 Q 342.8 122.4, 343.5 121.7 Q 343.4 118.8, 342.5 117.5 Q 341.6 116.1, 339.7 116.1 Q 338.7 116.1, 337.9 116.6 Q 337.2 117.1, 336.7 118.0 Q 336.3 118.9, 336.3 120.0 \" fill=\"#000000\"/>\n",
       "<path class=\"atom-9\" d=\"M 236.3 140.1 Q 236.3 135.7, 238.3 133.4 Q 240.4 131.0, 244.3 131.0 Q 248.0 131.0, 249.9 133.6 L 248.3 135.0 Q 246.8 133.1, 244.3 133.1 Q 241.7 133.1, 240.2 134.9 Q 238.8 136.7, 238.8 140.1 Q 238.8 143.5, 240.3 145.3 Q 241.8 147.1, 244.6 147.1 Q 246.5 147.1, 248.8 146.0 L 249.5 147.8 Q 248.6 148.4, 247.2 148.8 Q 245.8 149.1, 244.2 149.1 Q 240.4 149.1, 238.3 146.8 Q 236.3 144.4, 236.3 140.1 \" fill=\"#000000\"/>\n",
       "<path class=\"atom-9\" d=\"M 251.9 146.0 L 254.4 146.0 L 254.4 148.5 L 251.9 148.5 L 251.9 146.0 M 251.9 137.4 L 254.4 137.4 L 254.4 139.9 L 251.9 139.9 L 251.9 137.4 \" fill=\"#000000\"/>\n",
       "<path class=\"atom-9\" d=\"M 258.2 146.9 L 262.1 146.9 L 262.1 133.7 L 257.8 135.0 L 257.3 133.6 L 262.7 131.1 L 264.5 131.4 L 264.5 146.9 L 267.9 146.9 L 267.9 148.9 L 258.2 148.9 L 258.2 146.9 \" fill=\"#000000\"/>\n",
       "<path class=\"atom-9\" d=\"M 276.5 149.1 Q 273.2 149.1, 271.6 146.7 Q 270.0 144.3, 270.0 140.1 Q 270.0 135.8, 271.6 133.4 Q 273.2 131.0, 276.5 131.0 Q 279.7 131.0, 281.3 133.4 Q 282.9 135.8, 282.9 140.1 Q 282.9 144.3, 281.3 146.7 Q 279.7 149.1, 276.5 149.1 M 276.5 147.1 Q 278.4 147.1, 279.4 145.3 Q 280.4 143.5, 280.4 140.1 Q 280.4 136.6, 279.4 134.8 Q 278.4 133.0, 276.5 133.0 Q 274.6 133.0, 273.5 134.8 Q 272.5 136.6, 272.5 140.1 Q 272.5 143.5, 273.5 145.3 Q 274.6 147.1, 276.5 147.1 \" fill=\"#000000\"/>\n",
       "</svg>"
      ],
      "text/plain": [
       "<IPython.core.display.SVG object>"
      ]
     },
     "execution_count": 17,
     "metadata": {},
     "output_type": "execute_result"
    }
   ],
   "source": [
    "draw.highlight_substructures_in_notebook(substrate_smarts = mandelonitrile_smarts,\n",
    "                                          substructure_smarts = template)"
   ]
  },
  {
   "cell_type": "markdown",
   "id": "57ac3a5e-509b-46c2-a1b7-cc79ee1ba4de",
   "metadata": {},
   "source": [
    "Let's intead use the function `get_template_after_aligning_atom_maps`:"
   ]
  },
  {
   "cell_type": "code",
   "execution_count": 18,
   "id": "24d599da-b776-447e-893f-ccbb35b02bf2",
   "metadata": {},
   "outputs": [
    {
     "data": {
      "text/plain": [
       "'[C:1][C@&H1:2]([O&H1:3])[c:4]'"
      ]
     },
     "execution_count": 18,
     "metadata": {},
     "output_type": "execute_result"
    }
   ],
   "source": [
    "template = get_template_after_aligning_atom_maps(atom_mapped_substrate_smarts = mandelonitrile_smarts,\n",
    "                                                   radius = 1,\n",
    "                                                   reactive_atom_indices = [3])\n",
    "\n",
    "template"
   ]
  },
  {
   "cell_type": "code",
   "execution_count": 19,
   "id": "a4a1e29d-ec1e-49fc-b7d8-696ac82830ef",
   "metadata": {},
   "outputs": [
    {
     "data": {
      "image/svg+xml": [
       "<svg xmlns=\"http://www.w3.org/2000/svg\" xmlns:rdkit=\"http://www.rdkit.org/xml\" xmlns:xlink=\"http://www.w3.org/1999/xlink\" version=\"1.1\" baseProfile=\"full\" xml:space=\"preserve\" width=\"400px\" height=\"200px\" viewBox=\"0 0 400 200\">\n",
       "<!-- END OF HEADER -->\n",
       "<rect style=\"opacity:1.0;fill:#FFFFFF;stroke:none\" width=\"400.0\" height=\"200.0\" x=\"0.0\" y=\"0.0\"> </rect>\n",
       "<path class=\"bond-1 atom-1 atom-2\" d=\"M 114.7,65.0 L 156.7,105.9 L 154.8,113.4 L 147.4,115.5 L 105.4,74.6 Z\" style=\"fill:#FF7F7F;fill-rule:evenodd;fill-opacity:1;stroke:#FF7F7F;stroke-width:0.0px;stroke-linecap:butt;stroke-linejoin:miter;stroke-opacity:1;\"/>\n",
       "<path class=\"bond-2 atom-2 atom-3\" d=\"M 154.8,113.4 L 160.3,118.7 L 145.9,175.5 L 133.0,172.2 L 147.4,115.5 Z\" style=\"fill:#FF7F7F;fill-rule:evenodd;fill-opacity:1;stroke:#FF7F7F;stroke-width:0.0px;stroke-linecap:butt;stroke-linejoin:miter;stroke-opacity:1;\"/>\n",
       "<path class=\"bond-3 atom-2 atom-4\" d=\"M 213.1,90.0 L 216.7,102.8 L 160.3,118.7 L 154.8,113.4 L 156.7,105.9 Z\" style=\"fill:#FF7F7F;fill-rule:evenodd;fill-opacity:1;stroke:#FF7F7F;stroke-width:0.0px;stroke-linecap:butt;stroke-linejoin:miter;stroke-opacity:1;\"/>\n",
       "<ellipse cx=\"110.1\" cy=\"71.3\" rx=\"23.2\" ry=\"14.7\" class=\"atom-1\" style=\"fill:#FF7F7F;fill-rule:evenodd;stroke:#FF7F7F;stroke-width:1.0px;stroke-linecap:butt;stroke-linejoin:miter;stroke-opacity:1\"/>\n",
       "<ellipse cx=\"154.8\" cy=\"114.9\" rx=\"23.2\" ry=\"14.8\" class=\"atom-2\" style=\"fill:#FF7F7F;fill-rule:evenodd;stroke:#FF7F7F;stroke-width:1.0px;stroke-linecap:butt;stroke-linejoin:miter;stroke-opacity:1\"/>\n",
       "<ellipse cx=\"158.3\" cy=\"175.3\" rx=\"38.2\" ry=\"14.7\" class=\"atom-3\" style=\"fill:#FF7F7F;fill-rule:evenodd;stroke:#FF7F7F;stroke-width:1.0px;stroke-linecap:butt;stroke-linejoin:miter;stroke-opacity:1\"/>\n",
       "<ellipse cx=\"214.9\" cy=\"97.9\" rx=\"23.2\" ry=\"14.7\" class=\"atom-4\" style=\"fill:#FF7F7F;fill-rule:evenodd;stroke:#FF7F7F;stroke-width:1.0px;stroke-linecap:butt;stroke-linejoin:miter;stroke-opacity:1\"/>\n",
       "<path class=\"bond-0 atom-0 atom-1\" d=\"M 72.7,33.4 L 85.7,46.1\" style=\"fill:none;fill-rule:evenodd;stroke:#0000FF;stroke-width:2.0px;stroke-linecap:butt;stroke-linejoin:miter;stroke-opacity:1\"/>\n",
       "<path class=\"bond-0 atom-0 atom-1\" d=\"M 85.7,46.1 L 98.8,58.8\" style=\"fill:none;fill-rule:evenodd;stroke:#000000;stroke-width:2.0px;stroke-linecap:butt;stroke-linejoin:miter;stroke-opacity:1\"/>\n",
       "<path class=\"bond-0 atom-0 atom-1\" d=\"M 79.2,26.7 L 92.3,39.4\" style=\"fill:none;fill-rule:evenodd;stroke:#0000FF;stroke-width:2.0px;stroke-linecap:butt;stroke-linejoin:miter;stroke-opacity:1\"/>\n",
       "<path class=\"bond-0 atom-0 atom-1\" d=\"M 92.3,39.4 L 105.3,52.1\" style=\"fill:none;fill-rule:evenodd;stroke:#000000;stroke-width:2.0px;stroke-linecap:butt;stroke-linejoin:miter;stroke-opacity:1\"/>\n",
       "<path class=\"bond-0 atom-0 atom-1\" d=\"M 66.2,40.2 L 79.2,52.8\" style=\"fill:none;fill-rule:evenodd;stroke:#0000FF;stroke-width:2.0px;stroke-linecap:butt;stroke-linejoin:miter;stroke-opacity:1\"/>\n",
       "<path class=\"bond-0 atom-0 atom-1\" d=\"M 79.2,52.8 L 92.2,65.5\" style=\"fill:none;fill-rule:evenodd;stroke:#000000;stroke-width:2.0px;stroke-linecap:butt;stroke-linejoin:miter;stroke-opacity:1\"/>\n",
       "<path class=\"bond-1 atom-1 atom-2\" d=\"M 121.3,80.8 L 143.5,102.4\" style=\"fill:none;fill-rule:evenodd;stroke:#000000;stroke-width:2.0px;stroke-linecap:butt;stroke-linejoin:miter;stroke-opacity:1\"/>\n",
       "<path class=\"bond-2 atom-2 atom-3\" d=\"M 150.7,129.5 L 149.0,145.7 L 144.4,144.6 Z\" style=\"fill:#000000;fill-rule:evenodd;fill-opacity:1;stroke:#000000;stroke-width:0.5px;stroke-linecap:butt;stroke-linejoin:miter;stroke-opacity:1;\"/>\n",
       "<path class=\"bond-2 atom-2 atom-3\" d=\"M 149.0,145.7 L 138.2,159.7 L 147.3,162.0 Z\" style=\"fill:#FF0000;fill-rule:evenodd;fill-opacity:1;stroke:#FF0000;stroke-width:0.5px;stroke-linecap:butt;stroke-linejoin:miter;stroke-opacity:1;\"/>\n",
       "<path class=\"bond-2 atom-2 atom-3\" d=\"M 149.0,145.7 L 144.4,144.6 L 138.2,159.7 Z\" style=\"fill:#FF0000;fill-rule:evenodd;fill-opacity:1;stroke:#FF0000;stroke-width:0.5px;stroke-linecap:butt;stroke-linejoin:miter;stroke-opacity:1;\"/>\n",
       "<path class=\"bond-3 atom-2 atom-4\" d=\"M 173.2,108.2 L 196.4,101.6\" style=\"fill:none;fill-rule:evenodd;stroke:#000000;stroke-width:2.0px;stroke-linecap:butt;stroke-linejoin:miter;stroke-opacity:1\"/>\n",
       "<path class=\"bond-4 atom-4 atom-5\" d=\"M 217.6,85.6 L 227.4,47.1\" style=\"fill:none;fill-rule:evenodd;stroke:#000000;stroke-width:2.0px;stroke-linecap:butt;stroke-linejoin:miter;stroke-opacity:1\"/>\n",
       "<path class=\"bond-4 atom-4 atom-5\" d=\"M 226.7,87.9 L 236.5,49.4\" style=\"fill:none;fill-rule:evenodd;stroke:#000000;stroke-width:2.0px;stroke-linecap:butt;stroke-linejoin:miter;stroke-opacity:1\"/>\n",
       "<path class=\"bond-5 atom-5 atom-6\" d=\"M 238.4,33.6 L 272.0,24.1\" style=\"fill:none;fill-rule:evenodd;stroke:#000000;stroke-width:2.0px;stroke-linecap:butt;stroke-linejoin:miter;stroke-opacity:1\"/>\n",
       "<path class=\"bond-6 atom-6 atom-7\" d=\"M 301.6,29.9 L 326.2,53.9\" style=\"fill:none;fill-rule:evenodd;stroke:#000000;stroke-width:2.0px;stroke-linecap:butt;stroke-linejoin:miter;stroke-opacity:1\"/>\n",
       "<path class=\"bond-6 atom-6 atom-7\" d=\"M 295.1,36.7 L 319.6,60.6\" style=\"fill:none;fill-rule:evenodd;stroke:#000000;stroke-width:2.0px;stroke-linecap:butt;stroke-linejoin:miter;stroke-opacity:1\"/>\n",
       "<path class=\"bond-7 atom-7 atom-8\" d=\"M 332.2,73.7 L 322.5,112.0\" style=\"fill:none;fill-rule:evenodd;stroke:#000000;stroke-width:2.0px;stroke-linecap:butt;stroke-linejoin:miter;stroke-opacity:1\"/>\n",
       "<path class=\"bond-8 atom-8 atom-9\" d=\"M 310.8,125.5 L 285.0,132.8\" style=\"fill:none;fill-rule:evenodd;stroke:#000000;stroke-width:2.0px;stroke-linecap:butt;stroke-linejoin:miter;stroke-opacity:1\"/>\n",
       "<path class=\"bond-8 atom-8 atom-9\" d=\"M 308.3,116.5 L 282.4,123.8\" style=\"fill:none;fill-rule:evenodd;stroke:#000000;stroke-width:2.0px;stroke-linecap:butt;stroke-linejoin:miter;stroke-opacity:1\"/>\n",
       "<path class=\"bond-9 atom-9 atom-4\" d=\"M 248.3,129.0 L 226.4,107.6\" style=\"fill:none;fill-rule:evenodd;stroke:#000000;stroke-width:2.0px;stroke-linecap:butt;stroke-linejoin:miter;stroke-opacity:1\"/>\n",
       "<path class=\"atom-0\" d=\"M 41.2 17.5 L 47.0 26.8 Q 47.5 27.7, 48.5 29.4 Q 49.4 31.1, 49.4 31.2 L 49.4 17.5 L 51.8 17.5 L 51.8 35.1 L 49.4 35.1 L 43.1 24.9 Q 42.4 23.7, 41.6 22.3 Q 40.9 20.9, 40.7 20.5 L 40.7 35.1 L 38.4 35.1 L 38.4 17.5 L 41.2 17.5 \" fill=\"#0000FF\"/>\n",
       "<path class=\"atom-0\" d=\"M 54.7 32.2 L 57.2 32.2 L 57.2 34.7 L 54.7 34.7 L 54.7 32.2 M 54.7 23.6 L 57.2 23.6 L 57.2 26.1 L 54.7 26.1 L 54.7 23.6 \" fill=\"#0000FF\"/>\n",
       "<path class=\"atom-0\" d=\"M 61.0 33.1 L 64.8 33.1 L 64.8 19.9 L 60.6 21.2 L 60.0 19.8 L 65.4 17.4 L 67.2 17.7 L 67.2 33.1 L 70.7 33.1 L 70.7 35.1 L 61.0 35.1 L 61.0 33.1 \" fill=\"#0000FF\"/>\n",
       "<path class=\"atom-1\" d=\"M 93.7 69.9 Q 93.7 65.5, 95.7 63.2 Q 97.8 60.9, 101.7 60.9 Q 105.3 60.9, 107.3 63.4 L 105.6 64.8 Q 104.2 62.9, 101.7 62.9 Q 99.0 62.9, 97.6 64.7 Q 96.2 66.5, 96.2 69.9 Q 96.2 73.4, 97.7 75.2 Q 99.1 77.0, 102.0 77.0 Q 103.9 77.0, 106.2 75.8 L 106.9 77.7 Q 106.0 78.3, 104.6 78.6 Q 103.2 79.0, 101.6 79.0 Q 97.8 79.0, 95.7 76.6 Q 93.7 74.3, 93.7 69.9 \" fill=\"#000000\"/>\n",
       "<path class=\"atom-1\" d=\"M 109.2 75.8 L 111.7 75.8 L 111.7 78.3 L 109.2 78.3 L 109.2 75.8 M 109.2 67.2 L 111.7 67.2 L 111.7 69.7 L 109.2 69.7 L 109.2 67.2 \" fill=\"#000000\"/>\n",
       "<path class=\"atom-1\" d=\"M 114.6 64.4 Q 115.2 62.7, 116.8 61.8 Q 118.3 60.9, 120.5 60.9 Q 123.1 60.9, 124.6 62.3 Q 126.1 63.8, 126.1 66.3 Q 126.1 69.0, 124.2 71.4 Q 122.3 73.9, 118.3 76.7 L 126.4 76.7 L 126.4 78.7 L 114.5 78.7 L 114.5 77.1 Q 117.8 74.7, 119.8 73.0 Q 121.7 71.2, 122.7 69.7 Q 123.6 68.1, 123.6 66.5 Q 123.6 64.8, 122.8 63.8 Q 121.9 62.9, 120.5 62.9 Q 119.1 62.9, 118.1 63.4 Q 117.2 64.0, 116.5 65.3 L 114.6 64.4 \" fill=\"#000000\"/>\n",
       "<path class=\"atom-2\" d=\"M 138.4 113.4 Q 138.4 109.0, 140.4 106.8 Q 142.5 104.4, 146.4 104.4 Q 150.1 104.4, 152.0 107.0 L 150.4 108.3 Q 149.0 106.5, 146.4 106.5 Q 143.8 106.5, 142.3 108.3 Q 140.9 110.0, 140.9 113.4 Q 140.9 116.9, 142.4 118.7 Q 143.9 120.5, 146.7 120.5 Q 148.7 120.5, 150.9 119.4 L 151.6 121.2 Q 150.7 121.8, 149.3 122.2 Q 147.9 122.5, 146.4 122.5 Q 142.5 122.5, 140.4 120.2 Q 138.4 117.8, 138.4 113.4 \" fill=\"#000000\"/>\n",
       "<path class=\"atom-2\" d=\"M 154.0 119.4 L 156.5 119.4 L 156.5 121.9 L 154.0 121.9 L 154.0 119.4 M 154.0 110.8 L 156.5 110.8 L 156.5 113.3 L 154.0 113.3 L 154.0 110.8 \" fill=\"#000000\"/>\n",
       "<path class=\"atom-2\" d=\"M 167.8 113.0 Q 169.5 113.5, 170.3 114.6 Q 171.2 115.7, 171.2 117.5 Q 171.2 119.0, 170.4 120.1 Q 169.7 121.3, 168.3 121.9 Q 166.9 122.6, 165.1 122.6 Q 163.2 122.6, 161.8 121.9 Q 160.4 121.2, 159.3 119.9 L 160.7 118.4 Q 161.8 119.6, 162.7 120.1 Q 163.6 120.6, 165.1 120.6 Q 166.7 120.6, 167.7 119.7 Q 168.7 118.8, 168.7 117.4 Q 168.7 115.6, 167.6 114.8 Q 166.6 114.0, 164.5 114.0 L 163.2 114.0 L 163.2 112.2 L 164.3 112.2 Q 166.2 112.2, 167.3 111.4 Q 168.3 110.5, 168.3 108.9 Q 168.3 107.8, 167.4 107.1 Q 166.6 106.4, 165.1 106.4 Q 163.7 106.4, 162.7 107.0 Q 161.8 107.5, 161.1 108.8 L 159.4 107.9 Q 160.0 106.4, 161.5 105.4 Q 163.0 104.4, 165.1 104.4 Q 167.7 104.4, 169.3 105.7 Q 170.8 106.9, 170.8 108.9 Q 170.8 110.4, 170.0 111.4 Q 169.2 112.4, 167.8 113.0 \" fill=\"#000000\"/>\n",
       "<path class=\"atom-3\" d=\"M 131.3 173.9 Q 131.3 169.7, 133.4 167.3 Q 135.5 164.9, 139.4 164.9 Q 143.3 164.9, 145.4 167.3 Q 147.5 169.7, 147.5 173.9 Q 147.5 178.2, 145.4 180.7 Q 143.3 183.1, 139.4 183.1 Q 135.5 183.1, 133.4 180.7 Q 131.3 178.3, 131.3 173.9 M 139.4 181.1 Q 142.1 181.1, 143.6 179.3 Q 145.0 177.5, 145.0 173.9 Q 145.0 170.5, 143.6 168.7 Q 142.1 166.9, 139.4 166.9 Q 136.7 166.9, 135.2 168.7 Q 133.8 170.4, 133.8 173.9 Q 133.8 177.5, 135.2 179.3 Q 136.7 181.1, 139.4 181.1 \" fill=\"#FF0000\"/>\n",
       "<path class=\"atom-3\" d=\"M 149.9 179.9 L 152.4 179.9 L 152.4 182.4 L 149.9 182.4 L 149.9 179.9 M 149.9 171.3 L 152.4 171.3 L 152.4 173.8 L 149.9 173.8 L 149.9 171.3 \" fill=\"#FF0000\"/>\n",
       "<path class=\"atom-3\" d=\"M 167.0 176.8 L 169.1 176.8 L 169.1 178.8 L 167.0 178.8 L 167.0 182.8 L 164.6 182.8 L 164.6 178.8 L 155.5 178.8 L 155.5 177.2 L 163.2 165.1 L 167.0 165.1 L 167.0 176.8 M 158.4 176.8 L 164.6 176.8 L 164.6 166.7 L 158.4 176.8 \" fill=\"#FF0000\"/>\n",
       "<path class=\"atom-3\" d=\"M 171.5 165.1 L 173.8 165.1 L 173.8 172.7 L 182.9 172.7 L 182.9 165.1 L 185.3 165.1 L 185.3 182.8 L 182.9 182.8 L 182.9 174.7 L 173.8 174.7 L 173.8 182.8 L 171.5 182.8 L 171.5 165.1 \" fill=\"#FF0000\"/>\n",
       "<path class=\"atom-4\" d=\"M 198.5 96.5 Q 198.5 92.1, 200.5 89.8 Q 202.6 87.5, 206.5 87.5 Q 210.1 87.5, 212.1 90.0 L 210.4 91.4 Q 209.0 89.5, 206.5 89.5 Q 203.8 89.5, 202.4 91.3 Q 201.0 93.1, 201.0 96.5 Q 201.0 100.0, 202.4 101.8 Q 203.9 103.6, 206.8 103.6 Q 208.7 103.6, 211.0 102.4 L 211.7 104.3 Q 210.8 104.9, 209.4 105.2 Q 208.0 105.6, 206.4 105.6 Q 202.6 105.6, 200.5 103.2 Q 198.5 100.9, 198.5 96.5 \" fill=\"#000000\"/>\n",
       "<path class=\"atom-4\" d=\"M 214.0 102.4 L 216.5 102.4 L 216.5 104.9 L 214.0 104.9 L 214.0 102.4 M 214.0 93.8 L 216.5 93.8 L 216.5 96.3 L 214.0 96.3 L 214.0 93.8 \" fill=\"#000000\"/>\n",
       "<path class=\"atom-4\" d=\"M 225.7 94.3 Q 227.3 94.3, 228.6 95.0 Q 229.8 95.6, 230.6 96.9 Q 231.3 98.1, 231.3 99.8 Q 231.3 101.6, 230.4 102.9 Q 229.5 104.2, 228.1 104.9 Q 226.6 105.6, 225.0 105.6 Q 223.4 105.6, 221.9 105.0 Q 220.4 104.4, 219.3 103.2 L 220.8 101.7 Q 221.7 102.6, 222.8 103.1 Q 223.9 103.5, 225.0 103.5 Q 226.6 103.5, 227.7 102.6 Q 228.8 101.6, 228.8 99.8 Q 228.8 97.9, 227.7 97.1 Q 226.6 96.2, 224.9 96.2 Q 223.4 96.2, 221.6 96.8 L 220.3 96.2 L 221.1 87.7 L 230.2 87.7 L 229.9 89.7 L 223.2 89.7 L 222.6 94.9 Q 224.2 94.3, 225.7 94.3 \" fill=\"#000000\"/>\n",
       "<path class=\"atom-5\" d=\"M 203.2 36.0 Q 203.2 31.6, 205.3 29.3 Q 207.3 27.0, 211.2 27.0 Q 214.9 27.0, 216.8 29.5 L 215.2 30.9 Q 213.8 29.0, 211.2 29.0 Q 208.6 29.0, 207.1 30.8 Q 205.8 32.6, 205.8 36.0 Q 205.8 39.5, 207.2 41.3 Q 208.7 43.1, 211.5 43.1 Q 213.5 43.1, 215.7 41.9 L 216.4 43.8 Q 215.5 44.4, 214.1 44.7 Q 212.7 45.1, 211.2 45.1 Q 207.3 45.1, 205.3 42.7 Q 203.2 40.4, 203.2 36.0 \" fill=\"#000000\"/>\n",
       "<path class=\"atom-5\" d=\"M 218.8 41.9 L 221.3 41.9 L 221.3 44.4 L 218.8 44.4 L 218.8 41.9 M 218.8 33.3 L 221.3 33.3 L 221.3 35.8 L 218.8 35.8 L 218.8 33.3 \" fill=\"#000000\"/>\n",
       "<path class=\"atom-5\" d=\"M 231.0 33.8 Q 232.6 33.8, 233.8 34.5 Q 235.0 35.1, 235.7 36.4 Q 236.4 37.6, 236.4 39.1 Q 236.4 40.9, 235.6 42.2 Q 234.8 43.5, 233.5 44.3 Q 232.1 45.0, 230.4 45.0 Q 227.3 45.0, 225.7 42.9 Q 224.1 40.8, 224.1 36.5 Q 224.1 31.8, 226.1 29.4 Q 228.0 27.0, 231.8 27.0 Q 232.9 27.0, 233.8 27.2 Q 234.8 27.5, 235.7 28.0 L 234.7 29.7 Q 233.4 29.0, 231.8 29.0 Q 229.3 29.0, 228.0 30.6 Q 226.8 32.2, 226.6 35.5 Q 227.5 34.7, 228.6 34.2 Q 229.8 33.8, 231.0 33.8 M 230.4 43.0 Q 231.4 43.0, 232.2 42.5 Q 233.0 42.0, 233.4 41.1 Q 233.9 40.2, 233.9 39.2 Q 233.9 37.6, 233.0 36.7 Q 232.1 35.8, 230.6 35.8 Q 229.5 35.8, 228.4 36.2 Q 227.4 36.7, 226.6 37.4 Q 226.7 40.3, 227.6 41.7 Q 228.6 43.0, 230.4 43.0 \" fill=\"#000000\"/>\n",
       "<path class=\"atom-6\" d=\"M 274.0 19.0 Q 274.0 14.6, 276.1 12.3 Q 278.1 10.0, 282.1 10.0 Q 285.7 10.0, 287.7 12.6 L 286.0 13.9 Q 284.6 12.0, 282.1 12.0 Q 279.4 12.0, 278.0 13.8 Q 276.6 15.6, 276.6 19.0 Q 276.6 22.5, 278.0 24.3 Q 279.5 26.1, 282.3 26.1 Q 284.3 26.1, 286.6 24.9 L 287.3 26.8 Q 286.3 27.4, 284.9 27.8 Q 283.5 28.1, 282.0 28.1 Q 278.1 28.1, 276.1 25.8 Q 274.0 23.4, 274.0 19.0 \" fill=\"#000000\"/>\n",
       "<path class=\"atom-6\" d=\"M 289.6 25.0 L 292.1 25.0 L 292.1 27.5 L 289.6 27.5 L 289.6 25.0 M 289.6 16.4 L 292.1 16.4 L 292.1 18.9 L 289.6 18.9 L 289.6 16.4 \" fill=\"#000000\"/>\n",
       "<path class=\"atom-6\" d=\"M 304.2 12.2 L 294.9 12.2 L 294.9 10.2 L 306.6 10.2 L 306.6 12.0 L 299.5 27.9 L 297.1 27.9 L 304.2 12.2 \" fill=\"#000000\"/>\n",
       "<path class=\"atom-7\" d=\"M 328.2 62.6 Q 328.2 58.2, 330.3 55.9 Q 332.4 53.6, 336.3 53.6 Q 339.9 53.6, 341.9 56.1 L 340.2 57.5 Q 338.8 55.6, 336.3 55.6 Q 333.6 55.6, 332.2 57.4 Q 330.8 59.2, 330.8 62.6 Q 330.8 66.1, 332.2 67.9 Q 333.7 69.7, 336.6 69.7 Q 338.5 69.7, 340.8 68.5 L 341.5 70.4 Q 340.5 71.0, 339.2 71.3 Q 337.8 71.7, 336.2 71.7 Q 332.4 71.7, 330.3 69.3 Q 328.2 67.0, 328.2 62.6 \" fill=\"#000000\"/>\n",
       "<path class=\"atom-7\" d=\"M 343.8 68.5 L 346.3 68.5 L 346.3 71.0 L 343.8 71.0 L 343.8 68.5 M 343.8 59.9 L 346.3 59.9 L 346.3 62.4 L 343.8 62.4 L 343.8 59.9 \" fill=\"#000000\"/>\n",
       "<path class=\"atom-7\" d=\"M 358.2 62.1 Q 359.8 62.8, 360.7 63.8 Q 361.6 64.9, 361.6 66.6 Q 361.6 68.1, 360.9 69.3 Q 360.1 70.4, 358.7 71.1 Q 357.3 71.7, 355.5 71.7 Q 352.5 71.7, 350.8 70.3 Q 349.2 69.0, 349.2 66.6 Q 349.2 65.2, 349.9 64.1 Q 350.6 63.0, 352.2 62.2 Q 351.0 61.5, 350.4 60.6 Q 349.8 59.6, 349.8 58.1 Q 349.8 56.0, 351.3 54.8 Q 352.8 53.6, 355.4 53.6 Q 358.0 53.6, 359.5 54.8 Q 361.0 56.0, 361.0 58.1 Q 361.0 59.4, 360.3 60.4 Q 359.6 61.3, 358.2 62.1 M 355.4 55.4 Q 353.9 55.4, 353.1 56.1 Q 352.3 56.8, 352.3 58.1 Q 352.3 59.0, 352.8 59.6 Q 353.4 60.2, 354.2 60.6 Q 355.0 60.9, 356.5 61.5 Q 357.6 60.7, 358.0 59.9 Q 358.5 59.1, 358.5 58.1 Q 358.5 56.8, 357.7 56.1 Q 356.9 55.4, 355.4 55.4 M 355.5 69.8 Q 357.1 69.8, 358.1 68.9 Q 359.1 68.0, 359.1 66.6 Q 359.1 65.6, 358.6 65.0 Q 358.1 64.4, 357.3 64.1 Q 356.5 63.7, 355.1 63.3 L 354.0 62.9 Q 352.7 63.7, 352.2 64.6 Q 351.6 65.4, 351.6 66.6 Q 351.6 68.0, 352.7 68.9 Q 353.7 69.8, 355.5 69.8 \" fill=\"#000000\"/>\n",
       "<path class=\"atom-8\" d=\"M 312.9 123.1 Q 312.9 118.7, 314.9 116.4 Q 317.0 114.1, 320.9 114.1 Q 324.6 114.1, 326.5 116.7 L 324.9 118.0 Q 323.4 116.1, 320.9 116.1 Q 318.2 116.1, 316.8 117.9 Q 315.4 119.7, 315.4 123.1 Q 315.4 126.6, 316.9 128.4 Q 318.3 130.2, 321.2 130.2 Q 323.1 130.2, 325.4 129.0 L 326.1 130.9 Q 325.2 131.5, 323.8 131.8 Q 322.4 132.2, 320.8 132.2 Q 317.0 132.2, 314.9 129.8 Q 312.9 127.5, 312.9 123.1 \" fill=\"#000000\"/>\n",
       "<path class=\"atom-8\" d=\"M 328.5 129.0 L 331.0 129.0 L 331.0 131.5 L 328.5 131.5 L 328.5 129.0 M 328.5 120.5 L 331.0 120.5 L 331.0 122.9 L 328.5 122.9 L 328.5 120.5 \" fill=\"#000000\"/>\n",
       "<path class=\"atom-8\" d=\"M 339.7 114.1 Q 342.9 114.1, 344.4 116.2 Q 346.0 118.4, 346.0 122.6 Q 346.0 127.3, 344.1 129.7 Q 342.1 132.2, 338.3 132.2 Q 337.2 132.2, 336.3 131.9 Q 335.4 131.7, 334.5 131.1 L 335.4 129.5 Q 336.7 130.2, 338.3 130.2 Q 340.8 130.2, 342.1 128.6 Q 343.4 126.9, 343.5 123.6 Q 342.6 124.4, 341.5 124.9 Q 340.3 125.3, 339.1 125.3 Q 337.6 125.3, 336.3 124.6 Q 335.1 124.0, 334.4 122.7 Q 333.8 121.5, 333.8 120.0 Q 333.8 118.3, 334.5 116.9 Q 335.3 115.6, 336.6 114.8 Q 338.0 114.1, 339.7 114.1 M 336.3 120.0 Q 336.3 121.5, 337.1 122.4 Q 338.0 123.3, 339.6 123.3 Q 340.6 123.3, 341.7 122.9 Q 342.8 122.4, 343.5 121.7 Q 343.4 118.8, 342.5 117.5 Q 341.6 116.1, 339.7 116.1 Q 338.7 116.1, 337.9 116.6 Q 337.2 117.1, 336.7 118.0 Q 336.3 118.9, 336.3 120.0 \" fill=\"#000000\"/>\n",
       "<path class=\"atom-9\" d=\"M 236.3 140.1 Q 236.3 135.7, 238.3 133.4 Q 240.4 131.0, 244.3 131.0 Q 248.0 131.0, 249.9 133.6 L 248.3 135.0 Q 246.8 133.1, 244.3 133.1 Q 241.7 133.1, 240.2 134.9 Q 238.8 136.7, 238.8 140.1 Q 238.8 143.5, 240.3 145.3 Q 241.8 147.1, 244.6 147.1 Q 246.5 147.1, 248.8 146.0 L 249.5 147.8 Q 248.6 148.4, 247.2 148.8 Q 245.8 149.1, 244.2 149.1 Q 240.4 149.1, 238.3 146.8 Q 236.3 144.4, 236.3 140.1 \" fill=\"#000000\"/>\n",
       "<path class=\"atom-9\" d=\"M 251.9 146.0 L 254.4 146.0 L 254.4 148.5 L 251.9 148.5 L 251.9 146.0 M 251.9 137.4 L 254.4 137.4 L 254.4 139.9 L 251.9 139.9 L 251.9 137.4 \" fill=\"#000000\"/>\n",
       "<path class=\"atom-9\" d=\"M 258.2 146.9 L 262.1 146.9 L 262.1 133.7 L 257.8 135.0 L 257.3 133.6 L 262.7 131.1 L 264.5 131.4 L 264.5 146.9 L 267.9 146.9 L 267.9 148.9 L 258.2 148.9 L 258.2 146.9 \" fill=\"#000000\"/>\n",
       "<path class=\"atom-9\" d=\"M 276.5 149.1 Q 273.2 149.1, 271.6 146.7 Q 270.0 144.3, 270.0 140.1 Q 270.0 135.8, 271.6 133.4 Q 273.2 131.0, 276.5 131.0 Q 279.7 131.0, 281.3 133.4 Q 282.9 135.8, 282.9 140.1 Q 282.9 144.3, 281.3 146.7 Q 279.7 149.1, 276.5 149.1 M 276.5 147.1 Q 278.4 147.1, 279.4 145.3 Q 280.4 143.5, 280.4 140.1 Q 280.4 136.6, 279.4 134.8 Q 278.4 133.0, 276.5 133.0 Q 274.6 133.0, 273.5 134.8 Q 272.5 136.6, 272.5 140.1 Q 272.5 143.5, 273.5 145.3 Q 274.6 147.1, 276.5 147.1 \" fill=\"#000000\"/>\n",
       "</svg>"
      ],
      "text/plain": [
       "<IPython.core.display.SVG object>"
      ]
     },
     "execution_count": 19,
     "metadata": {},
     "output_type": "execute_result"
    }
   ],
   "source": [
    "draw.highlight_substructures_in_notebook(substrate_smarts = mandelonitrile_smarts,\n",
    "                                          substructure_smarts = template)"
   ]
  },
  {
   "cell_type": "markdown",
   "id": "47ee831b-54a7-4772-b502-3ee4dfb0d2cd",
   "metadata": {},
   "source": [
    "Here, our desired substructure has been captured corretly. So the crucial takeway is to align any external atom-map with RDKit's interal map of atom indices."
   ]
  }
 ],
 "metadata": {
  "kernelspec": {
   "display_name": "Python 3 (ipykernel)",
   "language": "python",
   "name": "python3"
  },
  "language_info": {
   "codemirror_mode": {
    "name": "ipython",
    "version": 3
   },
   "file_extension": ".py",
   "mimetype": "text/x-python",
   "name": "python",
   "nbconvert_exporter": "python",
   "pygments_lexer": "ipython3",
   "version": "3.12.8"
  }
 },
 "nbformat": 4,
 "nbformat_minor": 5
}
