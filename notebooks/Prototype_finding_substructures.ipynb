{
 "cells": [
  {
   "cell_type": "code",
   "execution_count": 30,
   "id": "d9738f93-9861-4aec-a439-73eeca76f7b4",
   "metadata": {},
   "outputs": [],
   "source": [
    "from rdkit import Chem\n",
    "from rdkit.Chem.Draw import IPythonConsole\n",
    "from rdkit.Chem import Draw\n",
    "from IPython import display\n",
    "import json"
   ]
  },
  {
   "cell_type": "code",
   "execution_count": 17,
   "id": "08384c98-b255-4b97-a483-fd7de69a1620",
   "metadata": {},
   "outputs": [
    {
     "data": {
      "image/png": "[encoded data removed]",
      "text/plain": [
       "<rdkit.Chem.rdchem.Mol at 0x10ef50350>"
      ]
     },
     "execution_count": 17,
     "metadata": {},
     "output_type": "execute_result"
    }
   ],
   "source": [
    "IPythonConsole.drawOptions.comicMode=True\n",
    "IPythonConsole.drawOptions.minFontSize=8\n",
    "tofacitinib = Chem.MolFromSmiles('CC1CCN(CC1N(C)C2=NC=NC3=C2C=CN3)C(=O)CC#N')\n",
    "tofacitinib"
   ]
  },
  {
   "cell_type": "code",
   "execution_count": 25,
   "id": "81ae4062-5d2f-4bd0-9635-f856930b6d5a",
   "metadata": {},
   "outputs": [
    {
     "data": {
      "image/png": "[encoded data removed]",
      "text/plain": [
       "<rdkit.Chem.rdchem.Mol at 0x10ef50cf0>"
      ]
     },
     "execution_count": 25,
     "metadata": {},
     "output_type": "execute_result"
    }
   ],
   "source": [
    "core = Chem.MolFromSmiles('N(C)C2=NC=NC3=C2C=CN3')\n",
    "const_smi = Chem.MolToSmiles(core)\n",
    "core"
   ]
  },
  {
   "cell_type": "code",
   "execution_count": 26,
   "id": "0195efda-a333-4598-b481-619411713479",
   "metadata": {},
   "outputs": [],
   "source": [
    "from mmpdblib import environment"
   ]
  },
  {
   "cell_type": "code",
   "execution_count": 28,
   "id": "aeb87152-0435-4e2f-92c5-7ed6cd61396a",
   "metadata": {},
   "outputs": [
    {
     "ename": "ValueError",
     "evalue": "No attachment points found in context SMILES '[CH3:1][CH2:2][OH:3]'",
     "output_type": "error",
     "traceback": [
      "\u001b[0;31m---------------------------------------------------------------------------\u001b[0m",
      "\u001b[0;31mValueError\u001b[0m                                Traceback (most recent call last)",
      "Cell \u001b[0;32mIn[28], line 1\u001b[0m\n\u001b[0;32m----> 1\u001b[0m centers \u001b[38;5;241m=\u001b[39m \u001b[43menvironment\u001b[49m\u001b[38;5;241;43m.\u001b[39;49m\u001b[43mfind_centers\u001b[49m\u001b[43m(\u001b[49m\u001b[38;5;124;43m'\u001b[39;49m\u001b[38;5;124;43m[CH3:1][CH2:2][OH:3]\u001b[39;49m\u001b[38;5;124;43m'\u001b[39;49m\u001b[43m)\u001b[49m\n",
      "File \u001b[0;32m~/Library/Caches/pypoetry/virtualenvs/rxntools-wxNqzEGl-py3.12/lib/python3.12/site-packages/mmpdblib/environment.py:89\u001b[0m, in \u001b[0;36mfind_centers\u001b[0;34m(smiles)\u001b[0m\n\u001b[1;32m     86\u001b[0m     centers[mapno] \u001b[38;5;241m=\u001b[39m atom_idx\n\u001b[1;32m     88\u001b[0m \u001b[38;5;28;01mif\u001b[39;00m \u001b[38;5;129;01mnot\u001b[39;00m centers:\n\u001b[0;32m---> 89\u001b[0m     \u001b[38;5;28;01mraise\u001b[39;00m \u001b[38;5;167;01mValueError\u001b[39;00m(\u001b[38;5;124m\"\u001b[39m\u001b[38;5;124mNo attachment points found in context SMILES \u001b[39m\u001b[38;5;132;01m%r\u001b[39;00m\u001b[38;5;124m\"\u001b[39m \u001b[38;5;241m%\u001b[39m (smiles,))\n\u001b[1;32m     91\u001b[0m n \u001b[38;5;241m=\u001b[39m \u001b[38;5;28mlen\u001b[39m(centers)\n\u001b[1;32m     92\u001b[0m \u001b[38;5;28;01mif\u001b[39;00m n \u001b[38;5;241m>\u001b[39m \u001b[38;5;241m3\u001b[39m:\n",
      "\u001b[0;31mValueError\u001b[0m: No attachment points found in context SMILES '[CH3:1][CH2:2][OH:3]'"
     ]
    }
   ],
   "source": [
    "centers = environment.find_centers('[CH3:1][CH2:2][OH:3]')"
   ]
  },
  {
   "cell_type": "code",
   "execution_count": 24,
   "id": "15bcfc27-3131-495e-a5d1-ac9defd17ea1",
   "metadata": {},
   "outputs": [
    {
     "data": {
      "text/plain": [
       "(11,)"
      ]
     },
     "execution_count": 24,
     "metadata": {},
     "output_type": "execute_result"
    }
   ],
   "source": [
    "centers.atom_ids"
   ]
  },
  {
   "cell_type": "code",
   "execution_count": 44,
   "id": "f13f9603-fb33-4d2e-b087-cbc6e8beb637",
   "metadata": {},
   "outputs": [],
   "source": [
    "with open('../data/cofactors.json', 'r') as f:\n",
    "    cofactors_dict = json.load(f)\n",
    "\n",
    "cofactors_smiles_list = []\n",
    "\n",
    "for key in cofactors_dict.keys():\n",
    "    cofactors_smiles_list.append(cofactors_dict[key])"
   ]
  },
  {
   "cell_type": "code",
   "execution_count": 49,
   "id": "28015a79-5c62-4320-9dfd-d280811d4bf4",
   "metadata": {},
   "outputs": [
    {
     "data": {
      "text/plain": [
       "True"
      ]
     },
     "execution_count": 49,
     "metadata": {},
     "output_type": "execute_result"
    }
   ],
   "source": [
    "\"O=P(O)(O)OP(=O)(O)O\"==\"O=P(O)(O)OP(=O)(O)O\""
   ]
  },
  {
   "cell_type": "code",
   "execution_count": 50,
   "id": "9ab74ae3-fb34-42d6-877c-87738c54cb69",
   "metadata": {},
   "outputs": [
    {
     "data": {
      "text/plain": [
       "'O=P(O)(O)OP(=O)(O)O'"
      ]
     },
     "execution_count": 50,
     "metadata": {},
     "output_type": "execute_result"
    }
   ],
   "source": [
    "cofactors_smiles_list[18]"
   ]
  },
  {
   "cell_type": "code",
   "execution_count": 53,
   "id": "d035d258-ace6-4692-896d-5e448e717910",
   "metadata": {},
   "outputs": [
    {
     "data": {
      "text/plain": [
       "'O=O'"
      ]
     },
     "execution_count": 53,
     "metadata": {},
     "output_type": "execute_result"
    }
   ],
   "source": [
    "cofactors_smiles_list[40]"
   ]
  },
  {
   "cell_type": "code",
   "execution_count": null,
   "id": "7e554772-f134-4db9-8c52-a79ac07efc02",
   "metadata": {},
   "outputs": [],
   "source": []
  }
 ],
 "metadata": {
  "kernelspec": {
   "display_name": "Python 3 (ipykernel)",
   "language": "python",
   "name": "python3"
  },
  "language_info": {
   "codemirror_mode": {
    "name": "ipython",
    "version": 3
   },
   "file_extension": ".py",
   "mimetype": "text/x-python",
   "name": "python",
   "nbconvert_exporter": "python",
   "pygments_lexer": "ipython3",
   "version": "3.12.8"
  }
 },
 "nbformat": 4,
 "nbformat_minor": 5
}
